{
 "cells": [
  {
   "cell_type": "code",
   "execution_count": 1,
   "id": "ba127af1-11a1-4021-8eee-2ef1224a4767",
   "metadata": {},
   "outputs": [],
   "source": [
    "import openmc\n",
    "import openmc.mgxs as mgxs\n",
    "import sys\n",
    "import pandas as pd\n",
    "import numpy as np\n",
    "import matplotlib.pyplot as plt"
   ]
  },
  {
   "cell_type": "code",
   "execution_count": 2,
   "id": "9e1a2595-eaa4-4aa0-97fc-698e4168fb0a",
   "metadata": {},
   "outputs": [],
   "source": [
    "sp_minimized = openmc.StatePoint('./most_minimized_gen1_128/statepoint.80.h5')"
   ]
  },
  {
   "cell_type": "code",
   "execution_count": 3,
   "id": "cbccc152-b7dd-423b-ba3e-134c02f6600a",
   "metadata": {},
   "outputs": [],
   "source": [
    "sp_flat = openmc.StatePoint('./flat_distr_gen1_128/statepoint.80.h5')"
   ]
  },
  {
   "cell_type": "code",
   "execution_count": 4,
   "id": "0803895b-7efa-4c7f-8955-e46374c8264e",
   "metadata": {},
   "outputs": [
    {
     "data": {
      "text/plain": [
       "1.380166946676376+/-0.0011457003311354215"
      ]
     },
     "execution_count": 4,
     "metadata": {},
     "output_type": "execute_result"
    }
   ],
   "source": [
    "sp_minimized.k_combined"
   ]
  },
  {
   "cell_type": "code",
   "execution_count": 5,
   "id": "3609d161-b74d-4347-99a6-ede5014ed2ee",
   "metadata": {},
   "outputs": [
    {
     "data": {
      "text/plain": [
       "1.373604991261965+/-0.001356242264374778"
      ]
     },
     "execution_count": 5,
     "metadata": {},
     "output_type": "execute_result"
    }
   ],
   "source": [
    "sp_flat.k_combined"
   ]
  },
  {
   "cell_type": "code",
   "execution_count": 6,
   "id": "42ecb7fd-9706-4122-a4a3-dc0f49268a6d",
   "metadata": {},
   "outputs": [
    {
     "data": {
      "text/plain": [
       "656.1955414410958"
      ]
     },
     "execution_count": 6,
     "metadata": {},
     "output_type": "execute_result"
    }
   ],
   "source": [
    "(sp_minimized.k_combined.n - sp_flat.k_combined.n ) * 1e5"
   ]
  },
  {
   "cell_type": "code",
   "execution_count": 7,
   "id": "ca525eb4-7452-4e43-8059-3e707df438b0",
   "metadata": {},
   "outputs": [],
   "source": [
    "def get_values(sp_file):\n",
    "    tally_flux = sp_file.get_tally(name='flux')\n",
    "    flux = tally_flux.get_slice(scores=['flux'])\n",
    "    nu_fission = tally_flux.get_slice(scores=['nu-fission'])\n",
    "    fission = tally_flux.get_slice(scores=['fission'])\n",
    "    flux_conv_dict = {}\n",
    "    eg_names = ['eg4', 'eg3', 'eg2', 'eg1']\n",
    "    egs = [(1e-6, 1.8554), (1.8554, 2.9023e1), (2.9023e1, 9.1188e3), (9.1188e3, 2.0e7)]\n",
    "    flux_eg, nu, nu_fiss_eg, fiss_eg = {}, {}, {}, {}\n",
    "    for x in range(4):\n",
    "        print(x)\n",
    "        flux_eg[x] = flux.get_slice(\n",
    "            filters=[\n",
    "                openmc.EnergyFilter], filter_bins=[\n",
    "                (egs[x],)])\n",
    "        nu_fiss_eg[x] = nu_fission.get_slice(\n",
    "            filters=[\n",
    "                openmc.EnergyFilter], filter_bins=[\n",
    "                (egs[x],)])\n",
    "        fiss_eg[x] = fission.get_slice(\n",
    "            filters=[\n",
    "                openmc.EnergyFilter], filter_bins=[\n",
    "                (egs[x],)])\n",
    "        nu[x] = sum(nu_fiss_eg[x].mean) / sum(fiss_eg[x].mean)\n",
    "    return flux_eg, nu, nu_fiss_eg, fiss_eg"
   ]
  },
  {
   "cell_type": "code",
   "execution_count": 8,
   "id": "066d6d81-18ca-4a42-8516-8a6963749fe7",
   "metadata": {},
   "outputs": [
    {
     "name": "stdout",
     "output_type": "stream",
     "text": [
      "0\n",
      "1\n",
      "2\n",
      "3\n"
     ]
    }
   ],
   "source": [
    "flux_eg_minimized, nu_minimized, nu_fiss_minimized, fiss_eg_minimized = get_values(sp_minimized)"
   ]
  },
  {
   "cell_type": "code",
   "execution_count": 9,
   "id": "c35e8693-bc27-44d0-ac43-5c7c5d91858f",
   "metadata": {},
   "outputs": [
    {
     "name": "stdout",
     "output_type": "stream",
     "text": [
      "0\n",
      "1\n",
      "2\n",
      "3\n"
     ]
    }
   ],
   "source": [
    "flux_eg_flat, nu_flat, nu_fiss_flat, fiss_eg_flat = get_values(sp_flat)"
   ]
  },
  {
   "cell_type": "code",
   "execution_count": 10,
   "id": "355a98c2-9149-4367-be1c-36db40650c8b",
   "metadata": {},
   "outputs": [],
   "source": [
    "def get_fiss_dict(fiss_eg):\n",
    "    eg_names = ['eg4', 'eg3', 'eg2', 'eg1']\n",
    "    fiss_dict = {}\n",
    "    for x in range(4):\n",
    "        fiss_dict[eg_names[x]] = fiss_eg[x].mean\n",
    "        fiss_dict[eg_names[x]].shape = (100, 100)\n",
    "    return fiss_dict"
   ]
  },
  {
   "cell_type": "code",
   "execution_count": 11,
   "id": "ac36699f-c927-486a-982d-f701a2b898d3",
   "metadata": {},
   "outputs": [],
   "source": [
    "fiss_dict_minimized = get_fiss_dict(fiss_eg_minimized)"
   ]
  },
  {
   "cell_type": "code",
   "execution_count": 12,
   "id": "0f86741f-5843-4f50-b8a8-cb02bce84f68",
   "metadata": {},
   "outputs": [],
   "source": [
    "fiss_dict_flat = get_fiss_dict(fiss_eg_flat)"
   ]
  },
  {
   "cell_type": "code",
   "execution_count": 13,
   "id": "943fa228-7177-4b55-9087-bc95b6b6d34d",
   "metadata": {},
   "outputs": [
    {
     "name": "stdout",
     "output_type": "stream",
     "text": [
      "1 0.0016592780059060206 0.0016264991654470482\n",
      "% 2.01530017077894\n",
      "2 0.008861619192618976 0.00884299737064906\n",
      "% 0.2105826926028912\n",
      "3 0.008545260334849076 0.008525034471897662\n",
      "% 0.2372525649965102\n",
      "4 0.5481347348130616 0.5446513052529579\n",
      "% 0.6395705888349756\n"
     ]
    }
   ],
   "source": [
    "for i in range(1, 5):\n",
    "    minimized_sum = sum(sum(fiss_dict_minimized['eg'+str(i)]))\n",
    "    flat_sum = sum(sum(fiss_dict_flat['eg'+str(i)]))\n",
    "    print(i, minimized_sum, flat_sum)\n",
    "    print(\"%\", (minimized_sum-flat_sum)/flat_sum*100)"
   ]
  },
  {
   "cell_type": "code",
   "execution_count": 14,
   "id": "e50c7e03-85a1-4795-a65b-aed27d11c7a8",
   "metadata": {},
   "outputs": [],
   "source": [
    "def total_perc(flat, minimized):\n",
    "    total_flat = 0\n",
    "    perc_flat = {}\n",
    "    for i in range(1,5):\n",
    "        total_flat += sum(sum(flat[\"eg\"+str(i)]))\n",
    "    for i in range(1,5):\n",
    "        perc_flat[\"eg\"+str(i)] = sum(sum(flat[\"eg\"+str(i)])) / total_flat * 100\n",
    "    total_minimized = 0\n",
    "    perc_minimized = {}\n",
    "    for i in range(1,5):\n",
    "        total_minimized += sum(sum(minimized[\"eg\"+str(i)]))\n",
    "    for i in range(1,5):\n",
    "        perc_minimized[\"eg\"+str(i)] = sum(sum(minimized[\"eg\"+str(i)])) / total_minimized * 100\n",
    "    print(perc_flat)\n",
    "    print(perc_minimized)"
   ]
  },
  {
   "cell_type": "code",
   "execution_count": 15,
   "id": "c757d3d0-7e51-42c3-a092-e623849de5b4",
   "metadata": {},
   "outputs": [
    {
     "name": "stdout",
     "output_type": "stream",
     "text": [
      "{'eg1': 0.2925379752210553, 'eg2': 1.5623422516067667, 'eg3': 1.506566800256335, 'eg4': 96.63855297291585}\n",
      "{'eg1': 0.288567582834769, 'eg2': 1.5688925211105451, 'eg3': 1.5124806968237443, 'eg4': 96.63005919923094}\n"
     ]
    }
   ],
   "source": [
    "total_perc(fiss_dict_minimized, fiss_dict_flat)"
   ]
  },
  {
   "cell_type": "code",
   "execution_count": 16,
   "id": "5d90be21-97af-481c-b2bb-90d256dfe72c",
   "metadata": {},
   "outputs": [],
   "source": [
    "def total_fission(fiss_dict):\n",
    "    total_case = 0\n",
    "    total_fiss = 0\n",
    "    for i in range(1,5):\n",
    "        total_case += sum(sum(fiss_dict[\"eg\"+str(i)]))\n",
    "    for i in range(1, 5):\n",
    "        case_sum = sum(sum(fiss_dict['eg'+str(i)]))\n",
    "        frac_case = sum(sum(fiss_dict[\"eg\"+str(i)])) / total_case\n",
    "        total_fiss += case_sum*frac_case\n",
    "    return total_fiss\n"
   ]
  },
  {
   "cell_type": "code",
   "execution_count": 17,
   "id": "f6bf1c17-e173-47ec-8306-9507416d9a93",
   "metadata": {},
   "outputs": [
    {
     "data": {
      "text/plain": [
       "0.6480192485759656"
      ]
     },
     "execution_count": 17,
     "metadata": {},
     "output_type": "execute_result"
    }
   ],
   "source": [
    "(total_fission(fiss_dict_minimized)-total_fission(fiss_dict_flat))/total_fission(fiss_dict_flat)*100"
   ]
  },
  {
   "cell_type": "code",
   "execution_count": 18,
   "id": "7d5a70fe-2e77-425b-afe1-2a6948b1fa29",
   "metadata": {},
   "outputs": [
    {
     "data": {
      "text/plain": [
       "(0.5299815189595772, 0.5265692488698189)"
      ]
     },
     "execution_count": 18,
     "metadata": {},
     "output_type": "execute_result"
    }
   ],
   "source": [
    "total_fission(fiss_dict_minimized), total_fission(fiss_dict_flat)"
   ]
  },
  {
   "cell_type": "code",
   "execution_count": null,
   "id": "77003478-b7e9-483a-a9ba-970d64086d8c",
   "metadata": {},
   "outputs": [],
   "source": []
  }
 ],
 "metadata": {
  "kernelspec": {
   "display_name": "Python 3 (ipykernel)",
   "language": "python",
   "name": "python3"
  },
  "language_info": {
   "codemirror_mode": {
    "name": "ipython",
    "version": 3
   },
   "file_extension": ".py",
   "mimetype": "text/x-python",
   "name": "python",
   "nbconvert_exporter": "python",
   "pygments_lexer": "ipython3",
   "version": "3.9.10"
  }
 },
 "nbformat": 4,
 "nbformat_minor": 5
}
