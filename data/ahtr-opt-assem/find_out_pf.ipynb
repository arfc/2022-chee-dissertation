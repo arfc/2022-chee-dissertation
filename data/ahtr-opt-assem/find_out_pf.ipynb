{
 "cells": [
  {
   "cell_type": "code",
   "execution_count": 2,
   "id": "b12801ac-9c37-44a1-b1a5-bdf8069ad25c",
   "metadata": {},
   "outputs": [],
   "source": [
    "import numpy as np\n",
    "from assem_constants import *"
   ]
  },
  {
   "cell_type": "code",
   "execution_count": 3,
   "id": "455ec3c7-0ac3-479f-ba57-862915c1fd18",
   "metadata": {},
   "outputs": [],
   "source": [
    "# Inputs \n",
    "sine_a_x, sine_b_x, sine_c_x = 0.5, 1, 1\n",
    "sine_a_y, sine_b_y, sine_c_y = 0.7, 1.5, 2\n",
    "total_pf = 0.1"
   ]
  },
  {
   "cell_type": "code",
   "execution_count": 4,
   "id": "926b6091-0f6c-4c9d-a890-f43c96b05d4e",
   "metadata": {},
   "outputs": [],
   "source": [
    "pf_distr = triso_distr(\n",
    "total_pf,\n",
    "sine_a_x,\n",
    "sine_b_x,\n",
    "sine_c_x,\n",
    "sine_a_y,\n",
    "sine_b_y,\n",
    "sine_c_y)"
   ]
  },
  {
   "cell_type": "code",
   "execution_count": 5,
   "id": "b308ddbc-3749-4cfc-9c6b-393dbec5fdd9",
   "metadata": {},
   "outputs": [
    {
     "data": {
      "text/plain": [
       "0.15232442720324346"
      ]
     },
     "execution_count": 5,
     "metadata": {},
     "output_type": "execute_result"
    }
   ],
   "source": [
    "np.amax(pf_distr)"
   ]
  },
  {
   "cell_type": "code",
   "execution_count": 88,
   "id": "9f03ff09-73f9-477b-aa81-da3912f2acf3",
   "metadata": {},
   "outputs": [],
   "source": [
    "def triso_distr(\n",
    "        total_pf,\n",
    "        sine_a_x,\n",
    "        sine_b_x,\n",
    "        sine_c_x,\n",
    "        sine_a_y,\n",
    "        sine_b_y,\n",
    "        sine_c_y,\n",
    "        constant=False):\n",
    "    if constant:\n",
    "        pf_distr = [[total_pf]*10]*6\n",
    "    else:\n",
    "        midpoints_discr_x = np.arange(\n",
    "            F_starting_point + F_cell_width / 2,\n",
    "            F_starting_point + pc.F_len + pc.F_F_gap_adj,\n",
    "            F_cell_width)\n",
    "        sine_val_discr_x = sine_a_x * \\\n",
    "            sin(sine_b_x * midpoints_discr_x + sine_c_x) + 2\n",
    "        midpoints_discr_y = np.arange(P_starting_point -\n",
    "                                    pc.P_A1_height /\n",
    "                                    2, P_starting_point -\n",
    "                                    pc.D_A1_height, -\n",
    "                                    P_cell_height_width)\n",
    "        sine_val_discr_y = sine_a_y * \\\n",
    "            sin(sine_b_y * midpoints_discr_y + sine_c_y) + 2\n",
    "        sine_val_distr_xy = sine_val_discr_y.reshape(\n",
    "            6, 1) * sine_val_discr_x.reshape(1, 10)\n",
    "        vol_triso = 4 / 3 * pi * pc.T_r5 ** 3\n",
    "        vol_total = F_cell_width * 10 * F_cell_height * pc.T_pitch * \\\n",
    "            20 * 6  # length * width * height * no_planks\n",
    "        vol_slice = F_cell_width * 1 * F_cell_height * pc.T_pitch * \\\n",
    "            20  # length * width * height * no_planks\n",
    "        no_trisos = total_pf * vol_total / vol_triso\n",
    "        triso_distr = sine_val_distr_xy / sum(sum(sine_val_distr_xy)) * no_trisos\n",
    "        pf_distr = triso_distr * vol_triso / vol_slice\n",
    "    return pf_distr"
   ]
  },
  {
   "cell_type": "code",
   "execution_count": 89,
   "id": "9c0bcd2f-5610-4b10-a8c2-1f896a336840",
   "metadata": {},
   "outputs": [],
   "source": [
    "def new_distr(total_pf):\n",
    "    sine_a_x, sine_a_y = np.random.uniform(0,2), np.random.uniform(0,2)\n",
    "    sine_b_x, sine_b_y = np.random.uniform(0,1.57), np.random.uniform(0,1.57)\n",
    "    sine_c_x, sine_c_y = np.random.uniform(0,6.28), np.random.uniform(0,6.28)\n",
    "    return np.amax(triso_distr(total_pf,sine_a_x,sine_b_x,sine_c_x,sine_a_y,sine_b_y,sine_c_y)), np.amin(triso_distr(total_pf,sine_a_x,sine_b_x,sine_c_x,sine_a_y,sine_b_y,sine_c_y))"
   ]
  },
  {
   "cell_type": "code",
   "execution_count": 78,
   "id": "5a3591d9-2450-47b6-91a9-77cbb42ad41e",
   "metadata": {},
   "outputs": [
    {
     "name": "stdout",
     "output_type": "stream",
     "text": [
      "0.27276508857155113 1.7839205625396951e-06\n"
     ]
    }
   ],
   "source": [
    "max_list, min_list = [], []\n",
    "total_pf = 0.04\n",
    "for i in range(100000):\n",
    "    max_val, min_val = new_distr(total_pf)\n",
    "    max_list.append(max_val)\n",
    "    min_list.append(min_val)\n",
    "print(max(max_list), min(min_list))\n",
    "# 2: (0.2670405258704961, 2.856595354726772e-06)\n",
    "# 1.5: 0.28658992932513216 1.0776300861981253e-07"
   ]
  },
  {
   "cell_type": "code",
   "execution_count": 79,
   "id": "34a5ecbd-a68e-4de9-a1bb-1a862c7acdfb",
   "metadata": {},
   "outputs": [
    {
     "name": "stdout",
     "output_type": "stream",
     "text": [
      "0.32858251080982465 2.1527091311650883e-06\n"
     ]
    }
   ],
   "source": [
    "max_list, min_list = [], []\n",
    "total_pf = 0.05\n",
    "for i in range(100000):\n",
    "    max_val, min_val = new_distr(total_pf)\n",
    "    max_list.append(max_val)\n",
    "    min_list.append(min_val)\n",
    "print(max(max_list), min(min_list))\n",
    "# 2: (0.3746594978096464, 1.1852064055718143e-06)\n",
    "# 1.5: 0.3319175219513987 1.0094615416321915e-06"
   ]
  },
  {
   "cell_type": "code",
   "execution_count": 92,
   "id": "ee1215f1-6734-499b-b6ce-816b095b7f07",
   "metadata": {},
   "outputs": [
    {
     "name": "stdout",
     "output_type": "stream",
     "text": [
      "0.4941267945613257 4.846873883375201e-06\n"
     ]
    }
   ],
   "source": [
    "max_list, min_list = [], []\n",
    "total_pf = 0.07\n",
    "for i in range(100000):\n",
    "    max_val, min_val = new_distr(total_pf)\n",
    "    max_list.append(max_val)\n",
    "    min_list.append(min_val)\n",
    "# 2: (0.43295338531976924, 2.7581280342307053e-06)\n",
    "# 1.5: 0.4680092707164729 3.641054560448869e-07\n",
    "print(max(max_list), min(min_list))"
   ]
  },
  {
   "cell_type": "code",
   "execution_count": 95,
   "id": "81f2e9ae-d1bc-4543-b05e-28df96737ebd",
   "metadata": {},
   "outputs": [],
   "source": [
    "big_list = []\n",
    "for i in max_list:\n",
    "    if i > 0.35:\n",
    "        big_list.append(i)"
   ]
  },
  {
   "cell_type": "code",
   "execution_count": 98,
   "id": "1ad789d8-aeb0-4461-8230-79c3ca4b0ad1",
   "metadata": {},
   "outputs": [
    {
     "data": {
      "text/plain": [
       "0.061"
      ]
     },
     "execution_count": 98,
     "metadata": {},
     "output_type": "execute_result"
    }
   ],
   "source": [
    "len(big_list)/100000*100"
   ]
  },
  {
   "cell_type": "code",
   "execution_count": null,
   "id": "b810a986-46b7-46c1-9b88-42d2b79c5e73",
   "metadata": {},
   "outputs": [],
   "source": []
  }
 ],
 "metadata": {
  "kernelspec": {
   "display_name": "Python 3 (ipykernel)",
   "language": "python",
   "name": "python3"
  },
  "language_info": {
   "codemirror_mode": {
    "name": "ipython",
    "version": 3
   },
   "file_extension": ".py",
   "mimetype": "text/x-python",
   "name": "python",
   "nbconvert_exporter": "python",
   "pygments_lexer": "ipython3",
   "version": "3.9.10"
  }
 },
 "nbformat": 4,
 "nbformat_minor": 5
}
