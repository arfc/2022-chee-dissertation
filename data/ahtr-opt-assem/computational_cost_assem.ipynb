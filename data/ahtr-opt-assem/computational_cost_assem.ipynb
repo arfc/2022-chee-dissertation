{
 "cells": [
  {
   "cell_type": "code",
   "execution_count": 1,
   "id": "aa7eba27-0890-4664-a8ff-29e5a4eaf0fa",
   "metadata": {},
   "outputs": [],
   "source": [
    "import pandas as pd"
   ]
  },
  {
   "cell_type": "code",
   "execution_count": 2,
   "id": "af4e6a6a-9ad7-4c69-acb9-6752c87c5ba6",
   "metadata": {},
   "outputs": [],
   "source": [
    "def conv_seconds_to_node_hours(time_in_seconds, nodes):\n",
    "    time_in_hours = time_in_seconds / 60 / 60\n",
    "    return round(time_in_hours * nodes, 1)"
   ]
  },
  {
   "cell_type": "code",
   "execution_count": 6,
   "id": "0fc12835-1ddf-42d9-b9da-8aa700723d54",
   "metadata": {},
   "outputs": [
    {
     "data": {
      "text/plain": [
       "(95.3, 285.8)"
      ]
     },
     "execution_count": 6,
     "metadata": {},
     "output_type": "execute_result"
    }
   ],
   "source": [
    "# a-1a \n",
    "# 604503.output\n",
    "a_1a_total = 2348 + 3436 + 2253\n",
    "a_1a_gens = 3\n",
    "a_1a_gen = a_1a_total / a_1a_gens\n",
    "conv_seconds_to_node_hours(a_1a_gen, 128), conv_seconds_to_node_hours(a_1a_total,128)"
   ]
  },
  {
   "cell_type": "code",
   "execution_count": 7,
   "id": "91692000-bf83-41f4-9f42-9899ab2fbda3",
   "metadata": {},
   "outputs": [
    {
     "data": {
      "text/plain": [
       "(247.0, 740.9)"
      ]
     },
     "execution_count": 7,
     "metadata": {},
     "output_type": "execute_result"
    }
   ],
   "source": [
    "# a-1b \n",
    "# 605709.output\n",
    "a_1b_total = 7178 + 6867 + 6794\n",
    "a_1b_gens = 3\n",
    "a_1b_gen = a_1b_total / a_1b_gens\n",
    "conv_seconds_to_node_hours(a_1b_gen, 128), conv_seconds_to_node_hours(a_1b_total,128)"
   ]
  },
  {
   "cell_type": "code",
   "execution_count": 8,
   "id": "e313bc24-2918-40c5-9fde-de816bbf5f4f",
   "metadata": {},
   "outputs": [
    {
     "data": {
      "text/plain": [
       "(115.0, 230.0)"
      ]
     },
     "execution_count": 8,
     "metadata": {},
     "output_type": "execute_result"
    }
   ],
   "source": [
    "# a-1c \n",
    "# 604489.output\n",
    "a_1c_total = 3958 + 2510\n",
    "a_1c_gens = 2\n",
    "a_1c_gen = a_1c_total / a_1c_gens\n",
    "conv_seconds_to_node_hours(a_1c_gen, 128), conv_seconds_to_node_hours(a_1c_total,128)"
   ]
  },
  {
   "cell_type": "code",
   "execution_count": 9,
   "id": "e6100b61-a3ff-4bfe-9957-02c47b717089",
   "metadata": {},
   "outputs": [
    {
     "data": {
      "text/plain": [
       "(167.3, 334.6)"
      ]
     },
     "execution_count": 9,
     "metadata": {},
     "output_type": "execute_result"
    }
   ],
   "source": [
    "# a-1d\n",
    "# 601664.output\n",
    "a_1d_total = 4797 + 4613\n",
    "a_1d_gens = 2\n",
    "a_1d_gen = a_1d_total / a_1d_gens\n",
    "conv_seconds_to_node_hours(a_1d_gen, 128), conv_seconds_to_node_hours(a_1d_total,128)"
   ]
  },
  {
   "cell_type": "code",
   "execution_count": 10,
   "id": "e3943573-3b8a-46e7-8025-d36c16c75690",
   "metadata": {},
   "outputs": [
    {
     "data": {
      "text/plain": [
       "(346.1, 692.3)"
      ]
     },
     "execution_count": 10,
     "metadata": {},
     "output_type": "execute_result"
    }
   ],
   "source": [
    "# a-1e\n",
    "# 606421.output\n",
    "a_1e_total = 10019 + 9451\n",
    "a_1e_gens = 2\n",
    "a_1e_gen = a_1e_total / a_1e_gens\n",
    "conv_seconds_to_node_hours(a_1e_gen, 128), conv_seconds_to_node_hours(a_1e_total,128)"
   ]
  },
  {
   "cell_type": "code",
   "execution_count": 11,
   "id": "76aa8587-cbe7-409d-b017-8b08a6780821",
   "metadata": {},
   "outputs": [
    {
     "data": {
      "text/plain": [
       "(111.5, 222.9)"
      ]
     },
     "execution_count": 11,
     "metadata": {},
     "output_type": "execute_result"
    }
   ],
   "source": [
    "# a-1f\n",
    "# 606421.output\n",
    "a_1f_total = 3335 + 2935\n",
    "a_1f_gens = 2\n",
    "a_1f_gen = a_1f_total / a_1f_gens\n",
    "conv_seconds_to_node_hours(a_1f_gen, 128), conv_seconds_to_node_hours(a_1f_total,128)"
   ]
  },
  {
   "cell_type": "code",
   "execution_count": 12,
   "id": "484e2fb7-ee6c-473d-aebc-32039413736c",
   "metadata": {},
   "outputs": [
    {
     "data": {
      "text/plain": [
       "(250.2, 1250.9)"
      ]
     },
     "execution_count": 12,
     "metadata": {},
     "output_type": "execute_result"
    }
   ],
   "source": [
    "# a-2a\n",
    "# 606414.output\n",
    "a_2a_total = 7105.95 + 7193.59 + 6996.52 + 6902.98 + 6981.47\n",
    "a_2a_gens = 5\n",
    "a_2a_gen = a_2a_total / a_2a_gens\n",
    "conv_seconds_to_node_hours(a_2a_gen, 128), conv_seconds_to_node_hours(a_2a_total,128)"
   ]
  },
  {
   "cell_type": "code",
   "execution_count": 13,
   "id": "a59e4039-a6d2-4400-a86b-95d98798ee2a",
   "metadata": {},
   "outputs": [
    {
     "data": {
      "text/plain": [
       "(98.3, 491.7)"
      ]
     },
     "execution_count": 13,
     "metadata": {},
     "output_type": "execute_result"
    }
   ],
   "source": [
    "# a-2b\n",
    "# 606415.output\n",
    "a_2b_total = 2791.65 + 2762.2 + 2765.4 + 2774.39 + 2736.47\n",
    "a_2b_gens = 5\n",
    "a_2b_gen = a_2b_total / a_2b_gens\n",
    "conv_seconds_to_node_hours(a_2b_gen, 128), conv_seconds_to_node_hours(a_2b_total,128)"
   ]
  },
  {
   "cell_type": "code",
   "execution_count": 14,
   "id": "7e339289-e56e-46d2-9b7c-8e144c61d2f8",
   "metadata": {},
   "outputs": [
    {
     "data": {
      "text/plain": [
       "(268.8, 537.7)"
      ]
     },
     "execution_count": 14,
     "metadata": {},
     "output_type": "execute_result"
    }
   ],
   "source": [
    "# a-2c\n",
    "# 606415.output\n",
    "a_2c_total = 7606.82 + 7514.61\n",
    "a_2c_gens = 2\n",
    "a_2c_gen = a_2c_total / a_2c_gens\n",
    "conv_seconds_to_node_hours(a_2c_gen, 128), conv_seconds_to_node_hours(a_2c_total,128)"
   ]
  },
  {
   "cell_type": "code",
   "execution_count": 15,
   "id": "11c44dc3-31b3-4698-8ae5-26c596eb2fb2",
   "metadata": {},
   "outputs": [
    {
     "data": {
      "text/plain": [
       "(273.6, 1367.9)"
      ]
     },
     "execution_count": 15,
     "metadata": {},
     "output_type": "execute_result"
    }
   ],
   "source": [
    "# a-3a\n",
    "# 606266.output\n",
    "a_3a_total = 7820.92 + 7572.09 + 7765.74 + 7627.99 + 7684.53\n",
    "a_3a_gens = 5\n",
    "a_3a_gen = a_3a_total / a_3a_gens\n",
    "conv_seconds_to_node_hours(a_3a_gen, 128), conv_seconds_to_node_hours(a_3a_total,128)"
   ]
  },
  {
   "cell_type": "code",
   "execution_count": 16,
   "id": "2b15b1dc-39de-4738-b353-2cf411b50503",
   "metadata": {},
   "outputs": [
    {
     "data": {
      "text/plain": [
       "(305.8, 1528.9)"
      ]
     },
     "execution_count": 16,
     "metadata": {},
     "output_type": "execute_result"
    }
   ],
   "source": [
    "# a-3b\n",
    "# 606520.output\n",
    "a_3b_total = 7444.71 + 6855.44 + 7194.78 + 7481 + 7086.87 + 6938.71\n",
    "a_3b_gens = 5\n",
    "a_3b_gen = a_3b_total / a_3b_gens\n",
    "conv_seconds_to_node_hours(a_3b_gen, 128), conv_seconds_to_node_hours(a_3b_total,128)"
   ]
  },
  {
   "cell_type": "code",
   "execution_count": 17,
   "id": "8aa3e33e-8371-41ed-ab77-fb41892e8453",
   "metadata": {},
   "outputs": [
    {
     "data": {
      "text/plain": [
       "(839.8, 3359.3)"
      ]
     },
     "execution_count": 17,
     "metadata": {},
     "output_type": "execute_result"
    }
   ],
   "source": [
    "# a-3b-256 \n",
    "# 606930.output\n",
    "a_3b_256_total = 11984.6 + 11762.8 + 11533.9 + 11958.9\n",
    "a_3b_256_gens = 4\n",
    "a_3b_256_gen = a_3b_256_total / a_3b_256_gens\n",
    "conv_seconds_to_node_hours(a_3b_256_gen, 256), conv_seconds_to_node_hours(a_3b_256_total,256)"
   ]
  },
  {
   "cell_type": "code",
   "execution_count": null,
   "id": "9f70a75b-85ed-45ca-b377-36066816fc9c",
   "metadata": {},
   "outputs": [],
   "source": []
  }
 ],
 "metadata": {
  "kernelspec": {
   "display_name": "Python 3 (ipykernel)",
   "language": "python",
   "name": "python3"
  },
  "language_info": {
   "codemirror_mode": {
    "name": "ipython",
    "version": 3
   },
   "file_extension": ".py",
   "mimetype": "text/x-python",
   "name": "python",
   "nbconvert_exporter": "python",
   "pygments_lexer": "ipython3",
   "version": "3.9.10"
  }
 },
 "nbformat": 4,
 "nbformat_minor": 5
}
