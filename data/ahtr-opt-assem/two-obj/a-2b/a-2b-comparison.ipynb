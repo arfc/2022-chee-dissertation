{
 "cells": [
  {
   "cell_type": "code",
   "execution_count": 1,
   "id": "ba1d40cc-d1b5-457f-8f4e-6ee485d62fcc",
   "metadata": {},
   "outputs": [],
   "source": [
    "import openmc\n",
    "import openmc.mgxs as mgxs\n",
    "import sys\n",
    "import pandas as pd\n",
    "import numpy as np\n",
    "import matplotlib.pyplot as plt"
   ]
  },
  {
   "cell_type": "code",
   "execution_count": 2,
   "id": "41262abe-9df4-40a6-8844-7194aace048f",
   "metadata": {},
   "outputs": [],
   "source": [
    "sp_most_minimized_pf = openmc.StatePoint(\"./most_minimized_pf_gen5_corrected/statepoint.80.h5\")"
   ]
  },
  {
   "cell_type": "code",
   "execution_count": 3,
   "id": "d063e2f1-2425-4903-92dd-1a56bde3c88d",
   "metadata": {},
   "outputs": [],
   "source": [
    "sp_most_minimized_ppf = openmc.StatePoint(\"./most_minimized_ppf_gen5_corrected/statepoint.80.h5\")"
   ]
  },
  {
   "cell_type": "code",
   "execution_count": 4,
   "id": "19d76eb4-5039-47d9-9a18-173f1e42da0f",
   "metadata": {},
   "outputs": [],
   "source": [
    "sp_most_minimized_both = openmc.StatePoint(\"./most_minimized_both_gen5_corrected/statepoint.80.h5\")"
   ]
  },
  {
   "cell_type": "code",
   "execution_count": 5,
   "id": "eac4a33c-4599-4873-90f0-44939deecf35",
   "metadata": {},
   "outputs": [
    {
     "data": {
      "text/plain": [
       "1.3805753364784241+/-0.0013521200434930807"
      ]
     },
     "execution_count": 5,
     "metadata": {},
     "output_type": "execute_result"
    }
   ],
   "source": [
    "sp_most_minimized_pf.k_combined"
   ]
  },
  {
   "cell_type": "code",
   "execution_count": 6,
   "id": "f9217fcf-6f63-417d-9119-1d5ee226081a",
   "metadata": {},
   "outputs": [
    {
     "data": {
      "text/plain": [
       "1.3851789053386707+/-0.0014220686885435875"
      ]
     },
     "execution_count": 6,
     "metadata": {},
     "output_type": "execute_result"
    }
   ],
   "source": [
    "sp_most_minimized_ppf.k_combined"
   ]
  },
  {
   "cell_type": "code",
   "execution_count": 7,
   "id": "7f7956cd-7f5e-42e6-aa90-4fecfe17e738",
   "metadata": {},
   "outputs": [
    {
     "data": {
      "text/plain": [
       "1.3818480003729272+/-0.0011432027574637988"
      ]
     },
     "execution_count": 7,
     "metadata": {},
     "output_type": "execute_result"
    }
   ],
   "source": [
    "sp_most_minimized_both.k_combined"
   ]
  },
  {
   "cell_type": "code",
   "execution_count": 8,
   "id": "eeab1f8a-86d2-4920-939c-62937de56858",
   "metadata": {},
   "outputs": [],
   "source": [
    "pf_keff = {\"Most Minimized Both\": sp_most_minimized_both.k_combined.n,\n",
    "           \"Most Minimized PF\": sp_most_minimized_pf.k_combined.n, \n",
    "           \"Most Minimized PPF\": sp_most_minimized_ppf.k_combined.n,}\n",
    "pf_diff = {\"Most Minimized Both\": 0,\n",
    "           \"Most Minimized PF\": (sp_most_minimized_pf.k_combined.n-sp_most_minimized_both.k_combined.n)*1e5, \n",
    "           \"Most Minimized PPF\": (sp_most_minimized_ppf.k_combined.n-sp_most_minimized_both.k_combined.n)*1e5}\n",
    "data = [pf_keff, pf_diff]"
   ]
  },
  {
   "cell_type": "code",
   "execution_count": 9,
   "id": "d53647ba-082f-4282-8e71-70669b5b5aa4",
   "metadata": {},
   "outputs": [
    {
     "data": {
      "text/html": [
       "<div>\n",
       "<style scoped>\n",
       "    .dataframe tbody tr th:only-of-type {\n",
       "        vertical-align: middle;\n",
       "    }\n",
       "\n",
       "    .dataframe tbody tr th {\n",
       "        vertical-align: top;\n",
       "    }\n",
       "\n",
       "    .dataframe thead th {\n",
       "        text-align: right;\n",
       "    }\n",
       "</style>\n",
       "<table border=\"1\" class=\"dataframe\">\n",
       "  <thead>\n",
       "    <tr style=\"text-align: right;\">\n",
       "      <th></th>\n",
       "      <th>keff</th>\n",
       "      <th>keff diff</th>\n",
       "    </tr>\n",
       "  </thead>\n",
       "  <tbody>\n",
       "    <tr>\n",
       "      <th>Most Minimized Both</th>\n",
       "      <td>1.381848</td>\n",
       "      <td>0.000000</td>\n",
       "    </tr>\n",
       "    <tr>\n",
       "      <th>Most Minimized PF</th>\n",
       "      <td>1.380575</td>\n",
       "      <td>-127.266389</td>\n",
       "    </tr>\n",
       "    <tr>\n",
       "      <th>Most Minimized PPF</th>\n",
       "      <td>1.385179</td>\n",
       "      <td>333.090497</td>\n",
       "    </tr>\n",
       "  </tbody>\n",
       "</table>\n",
       "</div>"
      ],
      "text/plain": [
       "                         keff   keff diff\n",
       "Most Minimized Both  1.381848    0.000000\n",
       "Most Minimized PF    1.380575 -127.266389\n",
       "Most Minimized PPF   1.385179  333.090497"
      ]
     },
     "execution_count": 9,
     "metadata": {},
     "output_type": "execute_result"
    }
   ],
   "source": [
    "df_keff_results = pd.DataFrame(data, index =['keff', 'keff diff'])\n",
    "df_keff_results = df_keff_results.transpose()\n",
    "df_keff_results"
   ]
  },
  {
   "cell_type": "code",
   "execution_count": 10,
   "id": "3b82156d-9080-40d4-a496-3696d24abb92",
   "metadata": {},
   "outputs": [],
   "source": [
    "def get_values(sp_file):\n",
    "    tally_flux = sp_file.get_tally(name='flux')\n",
    "    flux = tally_flux.get_slice(scores=['flux'])\n",
    "    nu_fission = tally_flux.get_slice(scores=['nu-fission'])\n",
    "    fission = tally_flux.get_slice(scores=['fission'])\n",
    "    flux_conv_dict = {}\n",
    "    eg_names = ['eg4', 'eg3', 'eg2', 'eg1']\n",
    "    egs = [(1e-6, 1.8554), (1.8554, 2.9023e1), (2.9023e1, 9.1188e3), (9.1188e3, 2.0e7)]\n",
    "    flux_eg, nu, nu_fiss_eg, fiss_eg = {}, {}, {}, {}\n",
    "    for x in range(4):\n",
    "        print(x)\n",
    "        flux_eg[x] = flux.get_slice(\n",
    "            filters=[\n",
    "                openmc.EnergyFilter], filter_bins=[\n",
    "                (egs[x],)])\n",
    "        nu_fiss_eg[x] = nu_fission.get_slice(\n",
    "            filters=[\n",
    "                openmc.EnergyFilter], filter_bins=[\n",
    "                (egs[x],)])\n",
    "        fiss_eg[x] = fission.get_slice(\n",
    "            filters=[\n",
    "                openmc.EnergyFilter], filter_bins=[\n",
    "                (egs[x],)])\n",
    "        nu[x] = sum(nu_fiss_eg[x].mean) / sum(fiss_eg[x].mean)\n",
    "    return flux_eg, nu, nu_fiss_eg, fiss_eg"
   ]
  },
  {
   "cell_type": "code",
   "execution_count": 11,
   "id": "d5cc4ecb-30c8-413f-975e-2da8006cffd9",
   "metadata": {},
   "outputs": [
    {
     "name": "stdout",
     "output_type": "stream",
     "text": [
      "0\n",
      "1\n",
      "2\n",
      "3\n"
     ]
    }
   ],
   "source": [
    "flux_eg_minimized_pf, nu_minimized_pf, nu_fiss_minimized_pf, fiss_eg_minimized_pf = get_values(sp_most_minimized_pf)"
   ]
  },
  {
   "cell_type": "code",
   "execution_count": 12,
   "id": "f7428dbd-978b-4c5a-ad45-26b8089791eb",
   "metadata": {},
   "outputs": [
    {
     "name": "stdout",
     "output_type": "stream",
     "text": [
      "0\n",
      "1\n",
      "2\n",
      "3\n"
     ]
    }
   ],
   "source": [
    "flux_eg_minimized_ppf, nu_minimized_ppf, nu_fiss_minimized_ppf, fiss_eg_minimized_ppf = get_values(sp_most_minimized_ppf)\n"
   ]
  },
  {
   "cell_type": "code",
   "execution_count": 13,
   "id": "5ab63e46-6445-4a7d-b724-47ffaaaf497c",
   "metadata": {},
   "outputs": [
    {
     "name": "stdout",
     "output_type": "stream",
     "text": [
      "0\n",
      "1\n",
      "2\n",
      "3\n"
     ]
    }
   ],
   "source": [
    "flux_eg_minimized_both, nu_minimized_both, nu_fiss_minimized_both, fiss_eg_minimized_both = get_values(sp_most_minimized_both)\n"
   ]
  },
  {
   "cell_type": "code",
   "execution_count": 14,
   "id": "9ada7745-bbc7-485f-ae82-bb2ed5e3021a",
   "metadata": {},
   "outputs": [],
   "source": [
    "def get_fiss_dict(fiss_eg):\n",
    "    eg_names = ['eg4', 'eg3', 'eg2', 'eg1']\n",
    "    fiss_dict = {}\n",
    "    for x in range(4):\n",
    "        fiss_dict[eg_names[x]] = fiss_eg[x].mean\n",
    "        fiss_dict[eg_names[x]].shape = (100, 100)\n",
    "    return fiss_dict"
   ]
  },
  {
   "cell_type": "code",
   "execution_count": 15,
   "id": "0c970708-202d-433d-bec5-68f178057d32",
   "metadata": {},
   "outputs": [],
   "source": [
    "fiss_dict_minimized_pf = get_fiss_dict(fiss_eg_minimized_pf)\n",
    "fiss_dict_minimized_ppf = get_fiss_dict(fiss_eg_minimized_ppf)\n",
    "fiss_dict_minimized_both = get_fiss_dict(fiss_eg_minimized_both)"
   ]
  },
  {
   "cell_type": "code",
   "execution_count": 16,
   "id": "6a479874-b44d-4d6f-8f64-437b294e85aa",
   "metadata": {},
   "outputs": [],
   "source": [
    "fiss_eg1 = {\"Most Minimized Both\": sum(sum(fiss_dict_minimized_both['eg'+str(1)])), \n",
    "           \"Most Minimized PF\": sum(sum(fiss_dict_minimized_pf['eg'+str(1)])), \n",
    "           \"Most Minimized PPF\": sum(sum(fiss_dict_minimized_ppf['eg'+str(1)]))}\n",
    "fiss_eg2 = {\"Most Minimized Both\": sum(sum(fiss_dict_minimized_both['eg'+str(2)])), \n",
    "           \"Most Minimized PF\": sum(sum(fiss_dict_minimized_pf['eg'+str(2)])), \n",
    "           \"Most Minimized PPF\": sum(sum(fiss_dict_minimized_ppf['eg'+str(2)]))}\n",
    "fiss_eg3 = {\"Most Minimized Both\": sum(sum(fiss_dict_minimized_both['eg'+str(3)])), \n",
    "           \"Most Minimized PF\": sum(sum(fiss_dict_minimized_pf['eg'+str(3)])), \n",
    "           \"Most Minimized PPF\": sum(sum(fiss_dict_minimized_ppf['eg'+str(3)]))}\n",
    "fiss_eg4 = {\"Most Minimized Both\": sum(sum(fiss_dict_minimized_both['eg'+str(4)])), \n",
    "           \"Most Minimized PF\": sum(sum(fiss_dict_minimized_pf['eg'+str(4)])), \n",
    "           \"Most Minimized PPF\": sum(sum(fiss_dict_minimized_ppf['eg'+str(4)]))}\n",
    "fiss_eg4_diff = {\"Most Minimized Both\": 0, \n",
    "                 \"Most Minimized PF\": (sum(sum(fiss_dict_minimized_pf['eg'+str(4)]))-sum(sum(fiss_dict_minimized_both['eg'+str(4)])))/sum(sum(fiss_dict_minimized_both['eg'+str(4)]))*100, \n",
    "                 \"Most Minimized PPF\": (sum(sum(fiss_dict_minimized_ppf['eg'+str(4)]))-sum(sum(fiss_dict_minimized_both['eg'+str(4)])))/sum(sum(fiss_dict_minimized_both['eg'+str(4)]))*100}\n",
    "data = [fiss_eg1, fiss_eg2, fiss_eg3, fiss_eg4, fiss_eg4_diff]"
   ]
  },
  {
   "cell_type": "code",
   "execution_count": 17,
   "id": "2885ab52-985b-4dd7-8e8d-5df8e8701ffc",
   "metadata": {},
   "outputs": [
    {
     "data": {
      "text/html": [
       "<div>\n",
       "<style scoped>\n",
       "    .dataframe tbody tr th:only-of-type {\n",
       "        vertical-align: middle;\n",
       "    }\n",
       "\n",
       "    .dataframe tbody tr th {\n",
       "        vertical-align: top;\n",
       "    }\n",
       "\n",
       "    .dataframe thead th {\n",
       "        text-align: right;\n",
       "    }\n",
       "</style>\n",
       "<table border=\"1\" class=\"dataframe\">\n",
       "  <thead>\n",
       "    <tr style=\"text-align: right;\">\n",
       "      <th></th>\n",
       "      <th>eg1</th>\n",
       "      <th>eg2</th>\n",
       "      <th>eg3</th>\n",
       "      <th>eg4</th>\n",
       "      <th>eg4 diff %</th>\n",
       "    </tr>\n",
       "  </thead>\n",
       "  <tbody>\n",
       "    <tr>\n",
       "      <th>Most Minimized Both</th>\n",
       "      <td>0.001710</td>\n",
       "      <td>0.009360</td>\n",
       "      <td>0.009025</td>\n",
       "      <td>0.547196</td>\n",
       "      <td>0.000000</td>\n",
       "    </tr>\n",
       "    <tr>\n",
       "      <th>Most Minimized PF</th>\n",
       "      <td>0.001865</td>\n",
       "      <td>0.008898</td>\n",
       "      <td>0.008534</td>\n",
       "      <td>0.547293</td>\n",
       "      <td>0.017828</td>\n",
       "    </tr>\n",
       "    <tr>\n",
       "      <th>Most Minimized PPF</th>\n",
       "      <td>0.001734</td>\n",
       "      <td>0.009479</td>\n",
       "      <td>0.009131</td>\n",
       "      <td>0.547885</td>\n",
       "      <td>0.126008</td>\n",
       "    </tr>\n",
       "  </tbody>\n",
       "</table>\n",
       "</div>"
      ],
      "text/plain": [
       "                          eg1       eg2       eg3       eg4  eg4 diff %\n",
       "Most Minimized Both  0.001710  0.009360  0.009025  0.547196    0.000000\n",
       "Most Minimized PF    0.001865  0.008898  0.008534  0.547293    0.017828\n",
       "Most Minimized PPF   0.001734  0.009479  0.009131  0.547885    0.126008"
      ]
     },
     "execution_count": 17,
     "metadata": {},
     "output_type": "execute_result"
    }
   ],
   "source": [
    "df_fiss_results = pd.DataFrame(data, index =['eg1', 'eg2', 'eg3', 'eg4', 'eg4 diff %'])\n",
    "df_fiss_results = df_fiss_results.transpose()\n",
    "df_fiss_results"
   ]
  },
  {
   "cell_type": "code",
   "execution_count": 18,
   "id": "19773379-c5e4-45fc-888e-2545f7505035",
   "metadata": {},
   "outputs": [],
   "source": [
    "def get_flux_dict_onethird(k, P, z_thickness, nu, flux_eg):\n",
    "    Q = 200 * 1.6022e-13\n",
    "    V = 40.52 * 23.4 * z_thickness / (100*100)\n",
    "    flux_conv_dict = {}\n",
    "    eg_names = ['eg4', 'eg3', 'eg2', 'eg1']\n",
    "    for x in range(4):\n",
    "        N = P * nu[x] / (Q * k)\n",
    "        flux_conv_dict[eg_names[x]] = flux_eg[x].mean * 1 / V * N\n",
    "        flux_conv_dict[eg_names[x]].shape = (100, 100)\n",
    "        flux_conv_dict[eg_names[x]][np.isnan(flux_conv_dict[eg_names[x]])] = 0\n",
    "    return flux_conv_dict"
   ]
  },
  {
   "cell_type": "code",
   "execution_count": 19,
   "id": "b78267bc-e513-40fa-9238-70051ceb39a2",
   "metadata": {},
   "outputs": [],
   "source": [
    "power_moltres = 8741 # 1cm thick\n",
    "flux_vals_minimized_pf = get_flux_dict_onethird(sp_most_minimized_pf.k_combined.n, power_moltres, z_thickness=1, nu=nu_minimized_pf, flux_eg=flux_eg_minimized_pf)\n",
    "flux_vals_minimized_ppf = get_flux_dict_onethird(sp_most_minimized_ppf.k_combined.n, power_moltres, z_thickness=1, nu=nu_minimized_ppf, flux_eg=flux_eg_minimized_ppf)\n",
    "flux_vals_minimized_both = get_flux_dict_onethird(sp_most_minimized_both.k_combined.n, power_moltres, z_thickness=1, nu=nu_minimized_both, flux_eg=flux_eg_minimized_both)"
   ]
  },
  {
   "cell_type": "code",
   "execution_count": 20,
   "id": "5144e443-1df4-465f-92b5-839ee3414ee1",
   "metadata": {},
   "outputs": [],
   "source": [
    "def clear_zeros(flux_vals_eg):\n",
    "    flux_vals_eg_cleared = []\n",
    "    bot_left = [13.50, 0]\n",
    "    top_left = [0, 23.4]\n",
    "    bot_right = [40.53, 0]\n",
    "    top_right = [27.02, 23.4]\n",
    "    gradient = (bot_left[1] - top_left[1]) / (bot_left[0] - top_left[0]) \n",
    "    dy = top_left[1]/100\n",
    "    y_100 = np.arange(bot_left[1]+top_left[1]/200, top_left[1]+top_left[1]/200, dy)\n",
    "    c_right = top_right[1] - gradient * top_right[0]\n",
    "    x_100_left = (y_100 - top_left[1]) / gradient\n",
    "    x_100_right = (y_100 - c_right) / gradient\n",
    "    dx = 40.53/100\n",
    "    x_across = np.arange(0, 40.53, dx)\n",
    "    for j in range(100):\n",
    "        y = y_100[j]\n",
    "        for i in range(100):\n",
    "            x = x_across[i]\n",
    "            if x > x_100_left[j]+dx/2 and x < x_100_right[j]-dx/2: \n",
    "                flux_vals_eg_cleared.append(flux_vals_eg[j][i])\n",
    "    return flux_vals_eg_cleared"
   ]
  },
  {
   "cell_type": "code",
   "execution_count": 21,
   "id": "bf8aa332-6e78-4da1-bdef-20dc978e4d34",
   "metadata": {},
   "outputs": [],
   "source": [
    "flux_vals_minimized_pf_cleared = {}\n",
    "flux_vals_minimized_ppf_cleared = {}\n",
    "flux_vals_minimized_both_cleared = {}\n",
    "for i in range(1, 5):\n",
    "    flux_vals_minimized_pf_cleared['eg'+str(i)] = clear_zeros(flux_vals_minimized_pf['eg'+str(i)])\n",
    "    flux_vals_minimized_ppf_cleared['eg'+str(i)] = clear_zeros(flux_vals_minimized_ppf['eg'+str(i)])\n",
    "    flux_vals_minimized_both_cleared['eg'+str(i)] = clear_zeros(flux_vals_minimized_both['eg'+str(i)])"
   ]
  },
  {
   "cell_type": "code",
   "execution_count": 22,
   "id": "d6f608c8-f11a-4f04-8a98-34b8821c1f8a",
   "metadata": {},
   "outputs": [],
   "source": [
    "def max_min(flux_vals):\n",
    "    return np.amax(flux_vals)/ np.amin(flux_vals)"
   ]
  },
  {
   "cell_type": "code",
   "execution_count": 23,
   "id": "f02c8205-23f8-468a-8d48-64922c944f6d",
   "metadata": {},
   "outputs": [],
   "source": [
    "flatness_eg1 = {\"Most Minimized Both\": max_min(flux_vals_minimized_both_cleared['eg1']), \n",
    "                \"Most Minimized PF\": max_min(flux_vals_minimized_pf_cleared['eg1']), \n",
    "                \"Most Minimized PPF\": max_min(flux_vals_minimized_ppf_cleared['eg1'])} \n",
    "flatness_eg2 = {\"Most Minimized Both\": max_min(flux_vals_minimized_both_cleared['eg2']), \n",
    "                \"Most Minimized PF\": max_min(flux_vals_minimized_pf_cleared['eg2']), \n",
    "                \"Most Minimized PPF\": max_min(flux_vals_minimized_ppf_cleared['eg2'])} \n",
    "flatness_eg3 = {\"Most Minimized Both\": max_min(flux_vals_minimized_both_cleared['eg3']), \n",
    "                \"Most Minimized PF\": max_min(flux_vals_minimized_pf_cleared['eg3']), \n",
    "                \"Most Minimized PPF\": max_min(flux_vals_minimized_ppf_cleared['eg3'])} \n",
    "flatness_eg4 = {\"Most Minimized Both\": max_min(flux_vals_minimized_both_cleared['eg4']), \n",
    "                \"Most Minimized PF\": max_min(flux_vals_minimized_pf_cleared['eg4']), \n",
    "                \"Most Minimized PPF\": max_min(flux_vals_minimized_ppf_cleared['eg4'])} \n",
    "flatness_eg4_diff = {\"Most Minimized Both\": 0, \n",
    "                     \"Most Minimized PF\": (max_min(flux_vals_minimized_pf_cleared['eg4'])-max_min(flux_vals_minimized_both_cleared['eg4']))/max_min(flux_vals_minimized_both_cleared['eg4'])*100, \n",
    "                     \"Most Minimized PPF\": (max_min(flux_vals_minimized_ppf_cleared['eg4'])-max_min(flux_vals_minimized_both_cleared['eg4']))/max_min(flux_vals_minimized_both_cleared['eg4'])*100} \n",
    "data = [flatness_eg1, flatness_eg2, flatness_eg3, flatness_eg4, flatness_eg4_diff]"
   ]
  },
  {
   "cell_type": "code",
   "execution_count": 24,
   "id": "f5b18437-f86b-442e-80fc-68671395dc49",
   "metadata": {},
   "outputs": [
    {
     "data": {
      "text/html": [
       "<div>\n",
       "<style scoped>\n",
       "    .dataframe tbody tr th:only-of-type {\n",
       "        vertical-align: middle;\n",
       "    }\n",
       "\n",
       "    .dataframe tbody tr th {\n",
       "        vertical-align: top;\n",
       "    }\n",
       "\n",
       "    .dataframe thead th {\n",
       "        text-align: right;\n",
       "    }\n",
       "</style>\n",
       "<table border=\"1\" class=\"dataframe\">\n",
       "  <thead>\n",
       "    <tr style=\"text-align: right;\">\n",
       "      <th></th>\n",
       "      <th>eg1</th>\n",
       "      <th>eg2</th>\n",
       "      <th>eg3</th>\n",
       "      <th>eg4</th>\n",
       "      <th>eg4 diff %</th>\n",
       "    </tr>\n",
       "  </thead>\n",
       "  <tbody>\n",
       "    <tr>\n",
       "      <th>Most Minimized Both</th>\n",
       "      <td>1.830835</td>\n",
       "      <td>1.325034</td>\n",
       "      <td>1.341957</td>\n",
       "      <td>1.298602</td>\n",
       "      <td>0.000000</td>\n",
       "    </tr>\n",
       "    <tr>\n",
       "      <th>Most Minimized PF</th>\n",
       "      <td>2.361493</td>\n",
       "      <td>1.367552</td>\n",
       "      <td>1.344816</td>\n",
       "      <td>1.316851</td>\n",
       "      <td>1.405282</td>\n",
       "    </tr>\n",
       "    <tr>\n",
       "      <th>Most Minimized PPF</th>\n",
       "      <td>1.742327</td>\n",
       "      <td>1.308865</td>\n",
       "      <td>1.298825</td>\n",
       "      <td>1.285174</td>\n",
       "      <td>-1.034032</td>\n",
       "    </tr>\n",
       "  </tbody>\n",
       "</table>\n",
       "</div>"
      ],
      "text/plain": [
       "                          eg1       eg2       eg3       eg4  eg4 diff % \n",
       "Most Minimized Both  1.830835  1.325034  1.341957  1.298602     0.000000\n",
       "Most Minimized PF    2.361493  1.367552  1.344816  1.316851     1.405282\n",
       "Most Minimized PPF   1.742327  1.308865  1.298825  1.285174    -1.034032"
      ]
     },
     "execution_count": 24,
     "metadata": {},
     "output_type": "execute_result"
    }
   ],
   "source": [
    "df_flatness_results = pd.DataFrame(data, index =['eg1', 'eg2', 'eg3', 'eg4', 'eg4 diff % '])\n",
    "df_flatness_results = df_flatness_results.transpose()\n",
    "df_flatness_results"
   ]
  },
  {
   "cell_type": "code",
   "execution_count": 25,
   "id": "4baafb9e-3044-401e-b4f1-92741ed6c636",
   "metadata": {},
   "outputs": [],
   "source": [
    "def plot_flux(group, flux_vals_first_cleared, flux_vals_second_cleared, \n",
    "              flux_vals_first, flux_vals_second):\n",
    "    flux_first = flux_vals_first_cleared['eg'+str(group)]\n",
    "    flux_second = flux_vals_second_cleared['eg'+str(group)]\n",
    "    first_max_min = max(flux_first) / min(flux_first)\n",
    "    print(\"first: max, min\",format(max(flux_first),'.4E'), format(min(flux_first),'.4E'))\n",
    "    second_max_min = max(flux_second) / min(flux_second)\n",
    "    print(\"second: max, min\",format(max(flux_second),'.4E'), format(min(flux_second),'.4E'))\n",
    "    print(\"first, second: max/min\", first_max_min, second_max_min)\n",
    "    print(\"second/first\", second_max_min/first_max_min)\n",
    "    print(\"%\", (second_max_min-first_max_min)/first_max_min*100)\n",
    "\n",
    "    plt.figure()\n",
    "    plt.imshow(flux_vals_first['eg'+str(group)],\n",
    "               interpolation='none',origin='lower',cmap='viridis')\n",
    "    plt.colorbar(pad=0.07)\n",
    "    bot_lim = min(min(flux_first), min(flux_second))\n",
    "    top_lim = max(max(flux_first), max(flux_second))\n",
    "    print(\"bot_lim, top_lim\", format(bot_lim,'.4E'), format(top_lim,'.4E'))\n",
    "    plt.clim(bot_lim, top_lim)\n",
    "    plt.title(\"First, EG \"+str(group))\n",
    "    #plt.savefig(\"flux-comparison-a-1c-most-minimized-grp\"+str(group)+\".png\",bbox_inches='tight')\n",
    "    \n",
    "    plt.figure()\n",
    "    plt.imshow(flux_vals_second['eg'+str(group)],\n",
    "               interpolation='none',origin='lower',cmap='viridis')\n",
    "    plt.colorbar()\n",
    "    plt.clim(bot_lim, top_lim)\n",
    "    plt.title(\"Second, EG \"+str(group))\n",
    "    #plt.savefig(\"flux-comparison-a-1c-least-minimized-grp\"+str(group)+\".png\",bbox_inches='tight')\n",
    "    return\n",
    "    "
   ]
  },
  {
   "cell_type": "code",
   "execution_count": 26,
   "id": "07f44247-c764-4a6c-8ec7-b96d6e004273",
   "metadata": {},
   "outputs": [
    {
     "name": "stdout",
     "output_type": "stream",
     "text": [
      "first: max, min 1.0989E+14 4.6534E+13\n",
      "second: max, min 8.9333E+13 5.1272E+13\n",
      "first, second: max/min 2.361492588771337 1.742327216518404\n",
      "second/first 0.7378076157439566\n",
      "% -26.219238425604342\n",
      "bot_lim, top_lim 4.6534E+13 1.0989E+14\n"
     ]
    },
    {
     "data": {
      "image/png": "[encoded data removed]",
      "text/plain": [
       "<Figure size 432x288 with 2 Axes>"
      ]
     },
     "metadata": {
      "needs_background": "light"
     },
     "output_type": "display_data"
    },
    {
     "data": {
      "image/png": "[encoded data removed]",
      "text/plain": [
       "<Figure size 432x288 with 2 Axes>"
      ]
     },
     "metadata": {
      "needs_background": "light"
     },
     "output_type": "display_data"
    }
   ],
   "source": [
    "plot_flux(1, flux_vals_minimized_pf_cleared, flux_vals_minimized_ppf_cleared, \n",
    "          flux_vals_minimized_pf, flux_vals_minimized_ppf)"
   ]
  },
  {
   "cell_type": "code",
   "execution_count": null,
   "id": "47f4d26f-9909-4cba-8bf7-1b2f54ec70e4",
   "metadata": {},
   "outputs": [],
   "source": []
  }
 ],
 "metadata": {
  "kernelspec": {
   "display_name": "Python 3 (ipykernel)",
   "language": "python",
   "name": "python3"
  },
  "language_info": {
   "codemirror_mode": {
    "name": "ipython",
    "version": 3
   },
   "file_extension": ".py",
   "mimetype": "text/x-python",
   "name": "python",
   "nbconvert_exporter": "python",
   "pygments_lexer": "ipython3",
   "version": "3.9.10"
  }
 },
 "nbformat": 4,
 "nbformat_minor": 5
}
