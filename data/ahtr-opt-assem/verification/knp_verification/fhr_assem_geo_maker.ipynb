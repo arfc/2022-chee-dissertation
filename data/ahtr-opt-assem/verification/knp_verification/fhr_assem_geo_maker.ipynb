{
 "cells": [
  {
   "cell_type": "code",
   "execution_count": 5,
   "id": "f6c71ef9-b87f-4bc2-a99d-c2c8b9a923d7",
   "metadata": {},
   "outputs": [],
   "source": [
    "import numpy as np\n",
    "import sys\n",
    "sys.path.insert(1, '../../../')\n",
    "from assem_constants import *  # noqa"
   ]
  },
  {
   "cell_type": "code",
   "execution_count": 87,
   "id": "423428ef-b844-4751-b3f8-5a6109481226",
   "metadata": {},
   "outputs": [],
   "source": [
    "def generate_outer_flibe():\n",
    "    outer_flibe_points = \"\"\"// Outer FliBe Points \\n\"\"\"\n",
    "    outer_flibe_points += \"Point(1) = {0, %f, 0, 1.0}; \\n\" % (H_half_point)\n",
    "    outer_flibe_points += \"Point(2) = {%f, %f, 0, 1.0}; \\n\" % (flibe_thickness_hyp, H_half_point)\n",
    "    H_half_point_opp = pc.H_side_big * np.cos(pi/3)\n",
    "    Hi_half_point_opp = pc.H_side * np.cos(pi/3)\n",
    "    outer_flibe_points += \"Point(3) = {%f, 0, 0, 1.0}; \\n\" % (H_half_point_opp)\n",
    "    outer_flibe_points += \"Point(4) = {%f, %f, 0, 1.0}; \\n\" % (flibe_thickness_hyp+Hi_half_point_opp, flibe_thickness)\n",
    "    outer_flibe_points += \"Point(5) = {%f, 0, 0, 1.0}; \\n\" % (H_half_point_opp+pc.H_side_big)\n",
    "    outer_flibe_points += \"Point(6) = {%f, %f, 0, 1.0}; \\n\" % (flibe_thickness_hyp+Hi_half_point_opp+pc.H_side, flibe_thickness)\n",
    "    \n",
    "    outer_flibe_lines = \"\"\"\n",
    "// Outer FliBe Lines\n",
    "Line(1) = {1, 2};\n",
    "Line(2) = {2, 4};\n",
    "Line(3) = {4, 6};\n",
    "Line(4) = {6, 5};\n",
    "Line(5) = {5, 3};\n",
    "Line(6) = {3, 1};\n",
    "\"\"\"\n",
    "\n",
    "    outer_flibe_surfaces = \"\"\"\n",
    "// Outer FliBe Surfaces \n",
    "Curve Loop(1) = {1, 2, 3, 4, 5, 6};\n",
    "Plane Surface(1) = {1};\n",
    "Physical Surface(\"outer_flibe\") = {1};\n",
    "\n",
    "\"\"\"\n",
    "    return outer_flibe_points + outer_flibe_lines + outer_flibe_surfaces"
   ]
  },
  {
   "cell_type": "code",
   "execution_count": 88,
   "id": "3a10b375-b8f0-40e1-8577-1de3ca31256b",
   "metadata": {},
   "outputs": [],
   "source": [
    "def generate_slot_flibe():\n",
    "    slot_flibe_points = \"\"\"// Slot FliBe Points \\n\"\"\"\n",
    "    slot_flibe_points += \"Point(7) = {%f, %f, 0, 1.0}; \\n\" % (pc.H_side_big - pc.CS_l, H_half_point)\n",
    "    slot_flibe_points += \"Point(8) = {%f, %f, 0, 1.0}; \\n\" % (pc.H_side_big - pc.CS_l, H_half_point - pc.CS_w / 2)\n",
    "    slot_flibe_points += \"Point(9) = {%f, %f, 0, 1.0}; \\n\" % (pc.H_side_big, H_half_point)\n",
    "    slot_flibe_points += \"Point(10) = {%f, %f, 0, 1.0}; \\n\" % (pc.H_side_big-pc.CS_w / 2 * cos(pi / 3), H_half_point - pc.CS_w / 2)\n",
    "    slot_flibe_points += \"Point(11) = {%f, %f, 0, 1.0}; \\n\" % (pc.H_side_big+pc.CS_l * cos(pi / 3), H_half_point-pc.CS_l*sin(pi / 3))\n",
    "    slot_flibe_points += \"Point(12) = {%f, %f, 0, 1.0}; \\n\" % (pc.H_side_big+pc.CS_l * cos(pi / 3)-(pc.CS_w / 2)*sin(pi/3), H_half_point-pc.CS_l*sin(pi / 3)-(pc.CS_w / 2)*cos(pi/3))\n",
    "    \n",
    "    slot_flibe_lines = \"\"\"\n",
    "// Slot FliBe Lines\n",
    "Line(7) = {7, 9};\n",
    "Line(8) = {9, 11};\n",
    "Line(9) = {11, 12};\n",
    "Line(10) = {12, 10};\n",
    "Line(11) = {10, 8};\n",
    "Line(12) = {8, 7};\n",
    "\"\"\"\n",
    "    slot_flibe_surfaces = \"\"\"\n",
    "// Slot FliBe Surfaces \n",
    "Curve Loop(2) = {12, 7, 8, 9, 10, 11};\n",
    "Plane Surface(2) = {2};\n",
    "Physical Surface(\"slot_flibe\") = {2};\n",
    "\"\"\"\n",
    "    return slot_flibe_points + slot_flibe_lines + slot_flibe_surfaces"
   ]
  },
  {
   "cell_type": "code",
   "execution_count": 89,
   "id": "6f60f911-b349-4cbb-90fb-91a458ca0bfe",
   "metadata": {},
   "outputs": [],
   "source": [
    "inner_flibe_13_x = pc.H_side_big - pc.D_to_center_width -  pc.F_len - 2 * pc.F_A1_D_gap\n",
    "inner_flibe_13_y = H_half_point - pc.D_to_center\n",
    "inner_flibe_14_x = inner_flibe_13_x + pc.P_small_gap / tan(pi/3)\n",
    "inner_flibe_14_y = inner_flibe_13_y - pc.P_small_gap\n",
    "inner_flibe_27_x = pc.H_side_big - pc.D_to_center_width\n",
    "inner_flibe_27_y = H_half_point - pc.D_to_center\n",
    "inner_flibe_28_x = inner_flibe_27_x + pc.P_small_gap / tan(pi/3)\n",
    "inner_flibe_28_y = inner_flibe_27_y - pc.P_small_gap\n",
    "\n",
    "def generate_inner_flibe():\n",
    "    inner_flibe_points = \"\"\"\n",
    "// Inner FliBe Points \\n\"\"\"\n",
    "    # left side\n",
    "    inner_flibe_points += \"Point(13) = {%f, %f, 0, 1.0}; \\n\" % (inner_flibe_13_x, inner_flibe_13_y)\n",
    "    inner_flibe_points += \"Point(14) = {%f, %f, 0, 1.0}; \\n\" % (inner_flibe_14_x, inner_flibe_14_y)\n",
    "    point = 15\n",
    "    inner_flibe_x, inner_flibe_y = inner_flibe_14_x, inner_flibe_14_y\n",
    "    for i in range(11):\n",
    "        if (i %2) == 0:\n",
    "            inner_flibe_x += pc.P_A1_adj\n",
    "            inner_flibe_y -= pc.P_A1_height\n",
    "        else:\n",
    "            inner_flibe_x += pc.P_big_gap / tan(pi/3)\n",
    "            inner_flibe_y -= pc.P_big_gap\n",
    "        inner_flibe_points += \"Point(%d) = {%f, %f, 0, 1.0}; \\n\" % (point, inner_flibe_x, inner_flibe_y)\n",
    "        point += 1\n",
    "    inner_flibe_points += \"Point(26) = {%f, %f, 0, 1.0}; \\n\" % (inner_flibe_x + pc.P_small_gap / tan(pi/3), inner_flibe_y - pc.P_small_gap)\n",
    "    # right side\n",
    "    inner_flibe_points += \"Point(27) = {%f, %f, 0, 1.0}; \\n\" % (inner_flibe_27_x, inner_flibe_27_y)\n",
    "    inner_flibe_points += \"Point(28) = {%f, %f, 0, 1.0}; \\n\" % (inner_flibe_28_x, inner_flibe_28_y)\n",
    "    inner_flibe_x, inner_flibe_y = inner_flibe_28_x, inner_flibe_28_y\n",
    "    point = 29\n",
    "    for i in range(11):\n",
    "        if (i %2) == 0:\n",
    "            inner_flibe_x += pc.P_A1_adj\n",
    "            inner_flibe_y -= pc.P_A1_height\n",
    "        else:\n",
    "            inner_flibe_x += pc.P_big_gap / tan(pi/3)\n",
    "            inner_flibe_y -= pc.P_big_gap\n",
    "        inner_flibe_points += \"Point(%d) = {%f, %f, 0, 1.0}; \\n\" % (point, inner_flibe_x, inner_flibe_y)\n",
    "        point += 1\n",
    "    inner_flibe_points += \"Point(40) = {%f, %f, 0, 1.0}; \\n\" % (inner_flibe_x + pc.P_small_gap / tan(pi/3), inner_flibe_y - pc.P_small_gap)\n",
    "\n",
    "    lt, lb, rt, rb = 13, 14, 27, 28\n",
    "    inner_flibe_lines = \"\"\"\n",
    "// Inner FliBe Lines \\n\"\"\"\n",
    "    inner_flibe_surfaces = \"\"\"\n",
    "// Inner FliBe Surfaces \\n\"\"\"\n",
    "    line = 13\n",
    "    surface = 3\n",
    "    plane_surface = \"\"\n",
    "    for i in range(7):\n",
    "        inner_flibe_lines += \"Line(%d) = {%d, %d}; \\n\" % (line, lt, rt)\n",
    "        line += 1 \n",
    "        inner_flibe_lines += \"Line(%d) = {%d, %d}; \\n\" % (line, rt, rb)\n",
    "        line += 1 \n",
    "        inner_flibe_lines += \"Line(%d) = {%d, %d}; \\n\" % (line, rb, lb)\n",
    "        line += 1 \n",
    "        inner_flibe_lines += \"Line(%d) = {%d, %d}; \\n\" % (line, lb, lt)\n",
    "        line += 1\n",
    "        inner_flibe_surfaces += \"Curve Loop(%d) = {%d, %d, %d, %d}; \\n\" % (surface, line-4, line-3, line-2, line-1)\n",
    "        inner_flibe_surfaces += \"Plane Surface(%d) = {%d}; \\n\" % (surface, surface)\n",
    "        surface += 1\n",
    "        lt, lb, rt, rb = lt+2, lb+2, rt+2, rb+2\n",
    "    inner_flibe_surfaces += \"Physical Surface('inner_flibe') = {3, 4, 5, 6, 7, 8, 9}; \\n\"\n",
    "    return inner_flibe_points + inner_flibe_lines + inner_flibe_surfaces"
   ]
  },
  {
   "cell_type": "code",
   "execution_count": 90,
   "id": "f626cdc3-a122-4dc5-b05b-28164b2b0a84",
   "metadata": {},
   "outputs": [],
   "source": [
    "def generate_graphite_plank_points_lines():\n",
    "    graphite_plank_points = \"\"\"\n",
    "// Graphite Plank Points \\n\"\"\"\n",
    "    # left side\n",
    "    graphite_plank_41_x = inner_flibe_14_x - pc.P_D_jut_hyp\n",
    "    graphite_plank_41_y = inner_flibe_13_y - pc.P_small_gap\n",
    "    graphite_plank_points += \"Point(41) = {%f, %f, 0, 1.0}; \\n\" % (graphite_plank_41_x, graphite_plank_41_y)\n",
    "    point = 42 \n",
    "    graphite_plank_x, graphite_plank_y = graphite_plank_41_x, graphite_plank_41_y\n",
    "    for i in range(42, 53):\n",
    "        if (i %2) == 0:\n",
    "            graphite_plank_x += pc.P_A1_adj\n",
    "            graphite_plank_y -= pc.P_A1_height\n",
    "        else:        \n",
    "            graphite_plank_x += pc.P_big_gap / tan(pi/3)\n",
    "            graphite_plank_y -= pc.P_big_gap\n",
    "        graphite_plank_points += \"Point(%d) = {%f, %f, 0, 1.0}; \\n\" % (point, graphite_plank_x, graphite_plank_y)\n",
    "        point += 1\n",
    "    # right side \n",
    "    graphite_plank_53_x = inner_flibe_28_x + pc.P_D_jut_hyp\n",
    "    graphite_plank_53_y = inner_flibe_27_y - pc.P_small_gap\n",
    "    graphite_plank_points += \"Point(53) = {%f, %f, 0, 1.0}; \\n\" % (graphite_plank_53_x, graphite_plank_53_y)\n",
    "    point = 54\n",
    "    graphite_plank_x, graphite_plank_y = graphite_plank_53_x, graphite_plank_53_y\n",
    "    for i in range(54, 65):\n",
    "        if (i %2) == 0:\n",
    "            graphite_plank_x += pc.P_A1_adj\n",
    "            graphite_plank_y -= pc.P_A1_height\n",
    "        else:        \n",
    "            graphite_plank_x += pc.P_big_gap / tan(pi/3)\n",
    "            graphite_plank_y -= pc.P_big_gap\n",
    "        graphite_plank_points += \"Point(%d) = {%f, %f, 0, 1.0}; \\n\" % (point, graphite_plank_x, graphite_plank_y)\n",
    "        point += 1\n",
    "\n",
    "    graphite_plank_lines = \"\"\"\n",
    "// Graphite Plank Lines \\n\"\"\"\n",
    "    # left side \n",
    "    left, right, line = 41, 14, 41\n",
    "    for i in range(12):\n",
    "        graphite_plank_lines += \"Line(%d) = {%d, %d}; \\n\" % (line, left, right)\n",
    "        left += 1 \n",
    "        right += 1 \n",
    "        line += 1\n",
    "    top, bot = 41, 42\n",
    "    for i in range(6):\n",
    "        graphite_plank_lines += \"Line(%d) = {%d, %d}; \\n\" % (line, top, bot)\n",
    "        top += 2 \n",
    "        bot += 2\n",
    "        line += 1\n",
    "    # right side \n",
    "    left, right = 53, 28\n",
    "    for i in range(12):\n",
    "        graphite_plank_lines += \"Line(%d) = {%d, %d}; \\n\" % (line, left, right)\n",
    "        left += 1 \n",
    "        right += 1 \n",
    "        line += 1\n",
    "    top, bot = 53, 54\n",
    "    for i in range(6):\n",
    "        graphite_plank_lines += \"Line(%d) = {%d, %d}; \\n\" % (line, top, bot)\n",
    "        top += 2 \n",
    "        bot += 2\n",
    "        line += 1\n",
    "    return graphite_plank_points + graphite_plank_lines"
   ]
  },
  {
   "cell_type": "code",
   "execution_count": 91,
   "id": "cd028d15-3780-45b7-9972-2d829e9897ed",
   "metadata": {},
   "outputs": [],
   "source": [
    "def generate_graphite_structure():\n",
    "    graphite_structure_lines = \"\"\"\n",
    "// Graphite Structure Lines\n",
    "Line(77) = {2, 7};\n",
    "Line(78) = {11, 6};\n",
    "    \"\"\"\n",
    "    graphite_structure_surfaces = \"\"\"\n",
    "// Graphite Structure Surfaces\n",
    "Curve Loop(10) = {77, -12, -11, -10, -9, 78, -3, -2};\n",
    "Curve Loop(11) = {13, 14, -59, 71, 60, 18, -61, 72, 62, 22, -63, 73, 64, 26, -65, 74, 66, 30, -67, 75, 68, 34, -69, 76, 70, 38, 39, 40, -52, -58, 51, 36, -50, -57, 49, 32, -48, -56, 47, 28, -46, -55, 45, 24, -44, -54, 43, 20, -42, -53, 41, 16};\n",
    "Plane Surface(10) = {10, 11};\n",
    "Physical Surface('graphite_structure') = {10}; \n",
    "    \"\"\"\n",
    "    return graphite_structure_lines + graphite_structure_surfaces"
   ]
  },
  {
   "cell_type": "code",
   "execution_count": 92,
   "id": "549a7773-679b-4914-b12e-fc2d62781ed5",
   "metadata": {},
   "outputs": [],
   "source": [
    "def generate_fuel_cells():\n",
    "    fuel_cell_points = \"\"\"\n",
    "// Fuel Cell Points \\n\"\"\"\n",
    "    point = 65\n",
    "    graphite_plank_65_x = F_starting_point\n",
    "    graphite_plank_65_y = inner_flibe_14_y - 0.35\n",
    "    graphite_plank_y = graphite_plank_65_y\n",
    "    graphite_plank_x = graphite_plank_65_x\n",
    "    point = 65\n",
    "    for j in range(12):\n",
    "        for i in range(11):\n",
    "            fuel_cell_points += \"Point(%d) = {%f, %f, 0, 1.0}; \\n\" % (point, graphite_plank_x + i * F_cell_width, graphite_plank_y)\n",
    "            point += 1 \n",
    "        if (j % 2) == 0:\n",
    "            graphite_plank_y -= F_cell_height\n",
    "        else:\n",
    "            graphite_plank_y -= 2 * graphite_thickness + pc.P_big_gap\n",
    "            graphite_plank_x += xgap_btwn_fuel_cells\n",
    "\n",
    "    fuel_cell_lines = \"\"\"\n",
    "// Fuel Cell Lines \\n\"\"\"\n",
    "    # horizontal lines\n",
    "    line, left, right = 79, 65, 66\n",
    "    for j in range(12):\n",
    "        for i in range(10):\n",
    "            fuel_cell_lines += \"Line(%d) = {%d, %d}; \\n\" % (line, left, right)\n",
    "            line += 1\n",
    "            left += 1\n",
    "            right += 1\n",
    "        left += 1\n",
    "        right += 1\n",
    "    # vertical lines\n",
    "    top, bot = 65, 76\n",
    "    for j in range(6):\n",
    "        for i in range(11):\n",
    "            fuel_cell_lines += \"Line(%d) = {%d, %d}; \\n\" % (line, top, bot)\n",
    "            line += 1\n",
    "            top += 1\n",
    "            bot += 1\n",
    "        top += 11\n",
    "        bot += 11\n",
    "\n",
    "    fuel_cell_surfaces = \"\"\"\n",
    "// Fuel Cell Surfaces \\n\"\"\"\n",
    "    surface, loop, top, right, bot, left = 11, 12, 79, 200, 89, 199\n",
    "    for j in range(6):\n",
    "        for i in range(10):\n",
    "            fuel_cell_surfaces += \"Curve Loop(%d) = {%d, %d, -%d, -%d}; \\n\" % (loop, top, right, bot, left)\n",
    "            fuel_cell_surfaces += \"Plane Surface(%d) = {%d}; \\n\" % (surface, loop)\n",
    "            fuel_cell_surfaces += \"Physical Surface('%s') = {%d}; \\n\" % (\"fuel_cell_\"+str(j*10+i), surface)\n",
    "            surface += 1\n",
    "            loop += 1\n",
    "            top += 1\n",
    "            right += 1 \n",
    "            bot += 1 \n",
    "            left += 1\n",
    "        top += 10\n",
    "        right += 1\n",
    "        bot += 10\n",
    "        left += 1\n",
    "    return fuel_cell_points + fuel_cell_lines + fuel_cell_surfaces"
   ]
  },
  {
   "cell_type": "code",
   "execution_count": 97,
   "id": "d5cf90b2-fd6e-4ad0-9530-8e05185e087a",
   "metadata": {},
   "outputs": [],
   "source": [
    "graphite_plank_surfaces = \"\"\"\n",
    "// Graphite Plank Surfaces \\n\"\"\"\n",
    "# outer loop\n",
    "loop, l1, l2, l3, l4, l5, l6, l7, l8 = 72, 41, 15, 59, 71, 60, 17, 42, 53\n",
    "for j in range(6):\n",
    "    graphite_plank_surfaces += \"Curve Loop(%d) = {%d, -%d, -%d, %d, %d, -%d, -%d, -%d}; \\n\" % (loop, l1, l2, l3, l4, l5, l6, l7, l8)\n",
    "    loop += 1; l1 += 2; l2 += 4; l3 += 2; l4 += 1; l5 += 2; l6 += 4; l7 += 2; l8 +=1;\n",
    "# inner loop \n",
    "left, top = 199, 79\n",
    "for j in range(6):\n",
    "    graphite_plank_surfaces += \"Curve Loop(\"+str(loop)+\") = {\" + str(left) + \", \"\n",
    "    for i in range(10):\n",
    "        graphite_plank_surfaces += \"-\" + str(top + i) + \", \"\n",
    "    graphite_plank_surfaces += \"-\" + str(left + 10) + \", \"\n",
    "    for i in range(10):\n",
    "        graphite_plank_surfaces += str(top + 10 + i)\n",
    "        if i < 9:\n",
    "            graphite_plank_surfaces += \", \"\n",
    "        else: \n",
    "            graphite_plank_surfaces += \"}; \\n\"\n",
    "    loop += 1; left += 11; top += 20;\n",
    "surface, loop = 71, 72 \n",
    "for j in range(6):\n",
    "    graphite_plank_surfaces += \"Plane Surface(%d) = {%d, %d}; \\n\" % (surface, loop, loop + 6)\n",
    "    graphite_plank_surfaces += \"Physical Surface('%s') = {%d}; \\n\" % (\"graphite_plank_\"+str(j+1), surface)\n",
    "    surface += 1; loop += 1;"
   ]
  },
  {
   "cell_type": "code",
   "execution_count": 98,
   "id": "39b43567-dfa5-48a1-bf8c-fd464e421eb1",
   "metadata": {},
   "outputs": [],
   "source": [
    "generated_geo = generate_outer_flibe() + \\\n",
    "                generate_slot_flibe() + \\\n",
    "                generate_inner_flibe() + \\\n",
    "                generate_graphite_plank_points_lines() + \\\n",
    "                generate_graphite_structure() + \\\n",
    "                generate_fuel_cells() + graphite_plank_surfaces\n",
    "\n",
    "with open(\"fhr_assem.geo\", \"w\") as geo_file:\n",
    "    geo_file.write(generated_geo)"
   ]
  },
  {
   "cell_type": "code",
   "execution_count": null,
   "id": "e2b815fd-2bb3-4e82-a863-f5c15beadd03",
   "metadata": {},
   "outputs": [],
   "source": []
  },
  {
   "cell_type": "code",
   "execution_count": 6,
   "id": "13eb45f2-808a-4e40-a8b7-eea64ea57a6d",
   "metadata": {},
   "outputs": [
    {
     "data": {
      "text/plain": [
       "array([20.26499445, 23.4       ])"
      ]
     },
     "execution_count": 6,
     "metadata": {},
     "output_type": "execute_result"
    }
   ],
   "source": [
    "np.array([(pc.H_side_big+H_half_point_adj)/2, H_half_point])"
   ]
  },
  {
   "cell_type": "code",
   "execution_count": 8,
   "id": "40365ec0-dbcc-488f-8c5b-5d3e60d3c50b",
   "metadata": {},
   "outputs": [
    {
     "data": {
      "text/plain": [
       "20.387394925050735"
      ]
     },
     "execution_count": 8,
     "metadata": {},
     "output_type": "execute_result"
    }
   ],
   "source": [
    "(pc.F_len + pc.F_F_gap_adj)"
   ]
  },
  {
   "cell_type": "code",
   "execution_count": 12,
   "id": "e2ca698a-5a02-4e13-9b66-f0193d9912e7",
   "metadata": {},
   "outputs": [
    {
     "data": {
      "text/plain": [
       "1.8532000000000002"
      ]
     },
     "execution_count": 12,
     "metadata": {},
     "output_type": "execute_result"
    }
   ],
   "source": [
    "20* pc.T_pitch"
   ]
  },
  {
   "cell_type": "code",
   "execution_count": 6,
   "id": "607fb233-0334-43ac-9396-e2cc5e6e9ef7",
   "metadata": {},
   "outputs": [
    {
     "data": {
      "text/plain": [
       "[40.52998889711173, 23.400000000000006]"
      ]
     },
     "execution_count": 6,
     "metadata": {},
     "output_type": "execute_result"
    }
   ],
   "source": [
    "[pc.H_side_big+H_half_point_adj, H_half_point]"
   ]
  },
  {
   "cell_type": "code",
   "execution_count": null,
   "id": "69642655-a882-487b-a98c-ad17805598d8",
   "metadata": {},
   "outputs": [],
   "source": []
  }
 ],
 "metadata": {
  "kernelspec": {
   "display_name": "Python 3 (ipykernel)",
   "language": "python",
   "name": "python3"
  },
  "language_info": {
   "codemirror_mode": {
    "name": "ipython",
    "version": 3
   },
   "file_extension": ".py",
   "mimetype": "text/x-python",
   "name": "python",
   "nbconvert_exporter": "python",
   "pygments_lexer": "ipython3",
   "version": "3.9.10"
  }
 },
 "nbformat": 4,
 "nbformat_minor": 5
}
