{
 "cells": [
  {
   "cell_type": "code",
   "execution_count": 1,
   "id": "163d35c5-eda0-4af4-a3e8-fdde4854d901",
   "metadata": {},
   "outputs": [
    {
     "name": "stderr",
     "output_type": "stream",
     "text": [
      "/Users/gwenchee/mambaforge3/envs/pyne/lib/python3.7/site-packages/ipykernel_launcher.py:2: DeprecationWarning: Using or importing the ABCs from 'collections' instead of from 'collections.abc' is deprecated since Python 3.3,and in 3.9 it will stop working\n",
      "  \n",
      "/Users/gwenchee/mambaforge3/envs/pyne/lib/python3.7/importlib/_bootstrap.py:219: QAWarning: pyne.data is not yet QA compliant.\n",
      "  return f(*args, **kwds)\n"
     ]
    }
   ],
   "source": [
    "import numpy as np\n",
    "from pyne import data"
   ]
  },
  {
   "cell_type": "code",
   "execution_count": 9,
   "id": "6a86de82-2ab2-42a3-9379-1d0c8981f664",
   "metadata": {},
   "outputs": [
    {
     "data": {
      "text/plain": [
       "10368.312054006032"
      ]
     },
     "execution_count": 9,
     "metadata": {},
     "output_type": "execute_result"
    }
   ],
   "source": [
    "PF = 0.0979 # equivalent to FHR benchmark \n",
    "# prolly ok to keep power at the same level even if varying the TRISO particle PF. So, if PF decreases, \n",
    "# it means that specific power is increasing since gU is lower.\n",
    "T_pitch = 0.09266\n",
    "wtp_u = ((0.00227325 * data.atomic_mass('U235')) +\n",
    "             (0.02269476 * data.atomic_mass('U238'))) / \\\n",
    "            (0.00227325 * data.atomic_mass('U235') +\n",
    "             0.02269476 * data.atomic_mass('U238') +\n",
    "             0.03561871 * data.atomic_mass('O16') +\n",
    "             0.00979714 * data.atomic_mass('C0')) * 100  # %\n",
    "V = PF * 20.38 * 1.85 * 20 * T_pitch * (2135e-5)**3 / (4235e-5)**3 * 6\n",
    "# PF * len * width * height (assume 1cm thick) * ratio of inner to outer * 6 planks\n",
    "density = 11  # g/cc\n",
    "grams_u = V * density * (wtp_u) / 100  # gU\n",
    "t_u = grams_u * 1e-6  # t\n",
    "sp_power = 200\n",
    "power = grams_u * sp_power  # W\n",
    "power"
   ]
  },
  {
   "cell_type": "code",
   "execution_count": 10,
   "id": "1fbc7d60-14b1-43e7-a6c7-512651f4ea77",
   "metadata": {},
   "outputs": [
    {
     "data": {
      "text/plain": [
       "5594.815483491274"
      ]
     },
     "execution_count": 10,
     "metadata": {},
     "output_type": "execute_result"
    }
   ],
   "source": [
    "PF = 0.0979 # equivalent to FHR benchmark \n",
    "# prolly ok to keep power at the same level even if varying the TRISO particle PF. So, if PF decreases, \n",
    "# it means that specific power is increasing since gU is lower.\n",
    "T_pitch = 0.09266\n",
    "wtp_u = ((0.00227325 * data.atomic_mass('U235')) +\n",
    "             (0.02269476 * data.atomic_mass('U238'))) / \\\n",
    "            (0.00227325 * data.atomic_mass('U235') +\n",
    "             0.02269476 * data.atomic_mass('U238') +\n",
    "             0.03561871 * data.atomic_mass('O16') +\n",
    "             0.00979714 * data.atomic_mass('C0')) * 100  # %\n",
    "V = PF * 20.38 * 1.85 * 1 * (2135e-5)**3 / (4235e-5)**3 * 6\n",
    "# PF * len * width * height (assume 1cm thick) * ratio of inner to outer * 6 planks\n",
    "density = 11  # g/cc\n",
    "grams_u = V * density * (wtp_u) / 100  # gU\n",
    "t_u = grams_u * 1e-6  # t\n",
    "sp_power = 200\n",
    "power = grams_u * sp_power  # W\n",
    "power"
   ]
  },
  {
   "cell_type": "code",
   "execution_count": 16,
   "id": "708aaa71-f818-4902-b1cc-eaaad16085fd",
   "metadata": {},
   "outputs": [
    {
     "data": {
      "text/plain": [
       "16198.854773923173"
      ]
     },
     "execution_count": 16,
     "metadata": {},
     "output_type": "execute_result"
    }
   ],
   "source": [
    "PF = 0.0979 # equivalent to FHR benchmark \n",
    "# prolly ok to keep power at the same level even if varying the TRISO particle PF. So, if PF decreases, \n",
    "# it means that specific power is increasing since gU is lower.\n",
    "T_pitch = 0.09266\n",
    "wtp_u = ((0.00227325 * data.atomic_mass('U235')) +\n",
    "             (0.02269476 * data.atomic_mass('U238'))) / \\\n",
    "            (0.00227325 * data.atomic_mass('U235') +\n",
    "             0.02269476 * data.atomic_mass('U238') +\n",
    "             0.03561871 * data.atomic_mass('O16') +\n",
    "             0.00979714 * data.atomic_mass('C0')) * 100  # %\n",
    "V = PF * 23.1 * 2.55 * 20 * T_pitch * (2135e-5)**3 / (4235e-5)**3 * 6\n",
    "# PF * len * width * height (assume 1cm thick) * ratio of inner to outer * 6 planks\n",
    "density = 11  # g/cc\n",
    "grams_u = V * density * (wtp_u) / 100  # gU\n",
    "t_u = grams_u * 1e-6  # t\n",
    "sp_power = 200\n",
    "power = grams_u * sp_power  # W\n",
    "power"
   ]
  },
  {
   "cell_type": "code",
   "execution_count": 4,
   "id": "7361b0af-dad2-4bfd-934c-488e8d479d0f",
   "metadata": {},
   "outputs": [
    {
     "data": {
      "text/plain": [
       "8741.018116729532"
      ]
     },
     "execution_count": 4,
     "metadata": {},
     "output_type": "execute_result"
    }
   ],
   "source": [
    "PF = 0.0979 # equivalent to FHR benchmark \n",
    "# prolly ok to keep power at the same level even if varying the TRISO particle PF. So, if PF decreases, \n",
    "# it means that specific power is increasing since gU is lower.\n",
    "T_pitch = 0.09266\n",
    "wtp_u = ((0.00227325 * data.atomic_mass('U235')) +\n",
    "             (0.02269476 * data.atomic_mass('U238'))) / \\\n",
    "            (0.00227325 * data.atomic_mass('U235') +\n",
    "             0.02269476 * data.atomic_mass('U238') +\n",
    "             0.03561871 * data.atomic_mass('O16') +\n",
    "             0.00979714 * data.atomic_mass('C0')) * 100  # %\n",
    "V = PF * 23.1 * 2.55 * 1 * (2135e-5)**3 / (4235e-5)**3 * 6\n",
    "# PF * len * width * height (assume 1cm thick) * ratio of inner to outer * 6 planks\n",
    "density = 11  # g/cc\n",
    "grams_u = V * density * (wtp_u) / 100  # gU\n",
    "t_u = grams_u * 1e-6  # t\n",
    "sp_power = 200\n",
    "power = grams_u * sp_power  # W\n",
    "power"
   ]
  },
  {
   "cell_type": "code",
   "execution_count": 1,
   "id": "17e8221b-4d6b-45b3-8db8-f122a943c27d",
   "metadata": {},
   "outputs": [],
   "source": [
    "power = 8741.018116729532"
   ]
  },
  {
   "cell_type": "code",
   "execution_count": 2,
   "id": "9a47869f-2fef-443b-a1c9-b13ab7a47eea",
   "metadata": {},
   "outputs": [],
   "source": [
    "import numpy as np\n",
    "import sys \n",
    "sys.path.insert(1, '../../fhr-benchmark-1/scripts/')\n",
    "import phase1a_constants as pc  # noqa"
   ]
  },
  {
   "cell_type": "code",
   "execution_count": 3,
   "id": "c7b4347b-a67c-4246-a069-9351f7360641",
   "metadata": {},
   "outputs": [],
   "source": [
    "inner_flibe_area = pc.P_small_gap * (pc.F_len + 2 * pc.F_A1_D_gap) * 2 + (pc.P_big_gap * (pc.F_len + 2 * pc.F_A1_D_gap)) * 5\n",
    "outer_flibe_area = 3 * np.sqrt(3) / 2 * (pc.H_side_big**2 - pc.H_side**2) / 3\n",
    "slot_flibe_area = (pc.CS_w * pc.CS_l - pc.CS_w/2 * (pc.CS_w / np.tan(np.pi/3)))\n",
    "\n"
   ]
  },
  {
   "cell_type": "code",
   "execution_count": 4,
   "id": "037f7715-6201-4f02-8ca3-4112ba53ca46",
   "metadata": {},
   "outputs": [
    {
     "data": {
      "text/plain": [
       "632.267826794943"
      ]
     },
     "execution_count": 4,
     "metadata": {},
     "output_type": "execute_result"
    }
   ],
   "source": [
    "3 * np.sqrt(3) / 2 * (pc.H_side_big**2)/3"
   ]
  },
  {
   "cell_type": "code",
   "execution_count": 5,
   "id": "783082ab-4570-447e-b796-f43097894af3",
   "metadata": {},
   "outputs": [
    {
     "data": {
      "text/plain": [
       "611.667918093095"
      ]
     },
     "execution_count": 5,
     "metadata": {},
     "output_type": "execute_result"
    }
   ],
   "source": [
    "power / (inner_flibe_area + outer_flibe_area + slot_flibe_area) / (50 / 550) "
   ]
  },
  {
   "cell_type": "code",
   "execution_count": 6,
   "id": "9470ce4e-1e52-48b5-bfe4-660e5078fe86",
   "metadata": {},
   "outputs": [
    {
     "data": {
      "text/plain": [
       "157.19509956281667"
      ]
     },
     "execution_count": 6,
     "metadata": {},
     "output_type": "execute_result"
    }
   ],
   "source": [
    "(inner_flibe_area + outer_flibe_area + slot_flibe_area)"
   ]
  },
  {
   "cell_type": "code",
   "execution_count": 7,
   "id": "30c1449a-ec33-46c2-b2cd-366f5dcb0a21",
   "metadata": {},
   "outputs": [
    {
     "data": {
      "text/plain": [
       "92.11982041929073"
      ]
     },
     "execution_count": 7,
     "metadata": {},
     "output_type": "execute_result"
    }
   ],
   "source": [
    "inner_flibe_area"
   ]
  },
  {
   "cell_type": "code",
   "execution_count": 8,
   "id": "846482b9-d5cb-48a9-ac0b-c5c1056ef368",
   "metadata": {},
   "outputs": [
    {
     "data": {
      "text/plain": [
       "47.70067924044682"
      ]
     },
     "execution_count": 8,
     "metadata": {},
     "output_type": "execute_result"
    }
   ],
   "source": [
    "outer_flibe_area"
   ]
  },
  {
   "cell_type": "code",
   "execution_count": 9,
   "id": "1d1da384-1a84-43fc-baf1-0cb5b5217092",
   "metadata": {},
   "outputs": [
    {
     "data": {
      "text/plain": [
       "17.37459990307911"
      ]
     },
     "execution_count": 9,
     "metadata": {},
     "output_type": "execute_result"
    }
   ],
   "source": [
    "slot_flibe_area"
   ]
  },
  {
   "cell_type": "code",
   "execution_count": null,
   "id": "da248884-838e-4f15-bdc3-bad4b2fa6a7c",
   "metadata": {},
   "outputs": [],
   "source": []
  }
 ],
 "metadata": {
  "kernelspec": {
   "display_name": "Python 3 (ipykernel)",
   "language": "python",
   "name": "python3"
  },
  "language_info": {
   "codemirror_mode": {
    "name": "ipython",
    "version": 3
   },
   "file_extension": ".py",
   "mimetype": "text/x-python",
   "name": "python",
   "nbconvert_exporter": "python",
   "pygments_lexer": "ipython3",
   "version": "3.9.10"
  }
 },
 "nbformat": 4,
 "nbformat_minor": 5
}
