{
 "cells": [
  {
   "cell_type": "code",
   "execution_count": 1,
   "id": "74f435ef-a0d3-4dad-a83a-881cc64fe39a",
   "metadata": {},
   "outputs": [
    {
     "name": "stderr",
     "output_type": "stream",
     "text": [
      "/Users/gwenchee/mambaforge3/envs/pyne/lib/python3.7/site-packages/ipykernel_launcher.py:2: DeprecationWarning: Using or importing the ABCs from 'collections' instead of from 'collections.abc' is deprecated since Python 3.3,and in 3.9 it will stop working\n",
      "  \n",
      "/Users/gwenchee/mambaforge3/envs/pyne/lib/python3.7/importlib/_bootstrap.py:219: QAWarning: pyne.data is not yet QA compliant.\n",
      "  return f(*args, **kwds)\n"
     ]
    }
   ],
   "source": [
    "import numpy as np\n",
    "from pyne import data"
   ]
  },
  {
   "cell_type": "code",
   "execution_count": 2,
   "id": "8a0a880b-7907-421e-a103-e7b735993e58",
   "metadata": {},
   "outputs": [
    {
     "data": {
      "text/plain": [
       "0.6895522388059702"
      ]
     },
     "execution_count": 2,
     "metadata": {},
     "output_type": "execute_result"
    }
   ],
   "source": [
    "A = 2 * 23.1 * 0.35 \n",
    "P = (23.1 + 0.35 + 23.1 + 0.35 ) * 2\n",
    "4 * A / P "
   ]
  },
  {
   "cell_type": "code",
   "execution_count": 3,
   "id": "703f5536-e0c9-4e8e-b6dc-b5aed48b1f70",
   "metadata": {},
   "outputs": [],
   "source": [
    "k = 1 * 1e-2 # W/cm/K\n",
    "length = 22.11 #cm\n",
    "width = 0.35 #cm\n",
    "dh = 1.35063 #cm\n",
    "Pr = 13.525 \n",
    "mu = 0.0056 # Pa*s \n",
    "rho = 1.95 # g/cm3\n",
    "vel = 230#1.94 * 1e2 #cm/s https://www.osti.gov/servlets/purl/1054145"
   ]
  },
  {
   "cell_type": "code",
   "execution_count": 4,
   "id": "eed96f38-ed51-416d-8ad3-75d0e6348d51",
   "metadata": {},
   "outputs": [
    {
     "data": {
      "text/plain": [
       "10817.099196428571"
      ]
     },
     "execution_count": 4,
     "metadata": {},
     "output_type": "execute_result"
    }
   ],
   "source": [
    "Re = rho * vel * dh / (mu * 10) \n",
    "Re"
   ]
  },
  {
   "cell_type": "code",
   "execution_count": 5,
   "id": "668084d6-0af8-4642-a9b0-09955fc2448c",
   "metadata": {},
   "outputs": [
    {
     "data": {
      "text/plain": [
       "0.030797956016681675"
      ]
     },
     "execution_count": 5,
     "metadata": {},
     "output_type": "execute_result"
    }
   ],
   "source": [
    "f = (0.79 * np.log(Re) - 1.64) **(-2)\n",
    "f"
   ]
  },
  {
   "cell_type": "code",
   "execution_count": 6,
   "id": "a9e2d8c7-e320-41af-bf63-4142d58bf42e",
   "metadata": {},
   "outputs": [
    {
     "data": {
      "text/plain": [
       "109.10130082416059"
      ]
     },
     "execution_count": 6,
     "metadata": {},
     "output_type": "execute_result"
    }
   ],
   "source": [
    "Nu = ((f/8)*(Re-1000)*Pr)/ (1+12.7*((f/8)**0.5)*(Pr**(2/3)-1))\n",
    "Nu"
   ]
  },
  {
   "cell_type": "code",
   "execution_count": 7,
   "id": "cfb3aaab-f1ab-488d-9c48-6b607e5ddae8",
   "metadata": {},
   "outputs": [
    {
     "data": {
      "text/plain": [
       "0.8077808195002376"
      ]
     },
     "execution_count": 7,
     "metadata": {},
     "output_type": "execute_result"
    }
   ],
   "source": [
    "h = Nu * k / dh\n",
    "h"
   ]
  },
  {
   "cell_type": "code",
   "execution_count": 8,
   "id": "843be124-8ea1-4430-a0aa-c82b49bc98ea",
   "metadata": {},
   "outputs": [
    {
     "data": {
      "text/plain": [
       "1456.8363527882557"
      ]
     },
     "execution_count": 8,
     "metadata": {},
     "output_type": "execute_result"
    }
   ],
   "source": [
    "PF = 0.0979 # equivalent to FHR benchmark \n",
    "# prolly ok to keep power at the same level even if varying the TRISO particle PF. So, if PF decreases, \n",
    "# it means that specific power is increasing since gU is lower.\n",
    "wtp_u = ((0.00227325 * data.atomic_mass('U235')) +\n",
    "             (0.02269476 * data.atomic_mass('U238'))) / \\\n",
    "            (0.00227325 * data.atomic_mass('U235') +\n",
    "             0.02269476 * data.atomic_mass('U238') +\n",
    "             0.03561871 * data.atomic_mass('O16') +\n",
    "             0.00979714 * data.atomic_mass('C0')) * 100  # %\n",
    "V = 0.0979 * 23.1 * 2.55 * 1 * (2135e-5)**3 / (4235e-5)**3\n",
    "density = 11  # g/cc\n",
    "grams_u = V * density * (wtp_u) / 100  # gU\n",
    "t_u = grams_u * 1e-6  # t\n",
    "sp_power = 200\n",
    "power = grams_u * sp_power  # W\n",
    "power"
   ]
  },
  {
   "cell_type": "code",
   "execution_count": 11,
   "id": "e14dcbc1-c10d-4a52-9eac-150a87ddc475",
   "metadata": {},
   "outputs": [
    {
     "data": {
      "text/plain": [
       "26223.054350188602"
      ]
     },
     "execution_count": 11,
     "metadata": {},
     "output_type": "execute_result"
    }
   ],
   "source": [
    "power * 6 * 3"
   ]
  },
  {
   "cell_type": "code",
   "execution_count": 12,
   "id": "51329935-890d-42b3-bb1e-cc3c1f8358b4",
   "metadata": {},
   "outputs": [
    {
     "data": {
      "text/plain": [
       "990.4761904761903"
      ]
     },
     "execution_count": 12,
     "metadata": {},
     "output_type": "execute_result"
    }
   ],
   "source": [
    "1456/ (23.1 * 0.35 * 2) / (50/550) "
   ]
  },
  {
   "cell_type": "code",
   "execution_count": 13,
   "id": "1369ee43-6305-478f-b094-2ec3b234b462",
   "metadata": {},
   "outputs": [
    {
     "data": {
      "text/plain": [
       "16.17"
      ]
     },
     "execution_count": 13,
     "metadata": {},
     "output_type": "execute_result"
    }
   ],
   "source": [
    "(23.1 * 0.35 * 2)"
   ]
  },
  {
   "cell_type": "code",
   "execution_count": null,
   "id": "4c3ae5eb-c031-4167-bec1-2c0d3e1425bc",
   "metadata": {},
   "outputs": [],
   "source": []
  }
 ],
 "metadata": {
  "kernelspec": {
   "display_name": "pyne",
   "language": "python",
   "name": "pyne"
  },
  "language_info": {
   "codemirror_mode": {
    "name": "ipython",
    "version": 3
   },
   "file_extension": ".py",
   "mimetype": "text/x-python",
   "name": "python",
   "nbconvert_exporter": "python",
   "pygments_lexer": "ipython3",
   "version": "3.7.12"
  }
 },
 "nbformat": 4,
 "nbformat_minor": 5
}
