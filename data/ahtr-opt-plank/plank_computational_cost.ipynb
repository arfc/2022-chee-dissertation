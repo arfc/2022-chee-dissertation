{
 "cells": [
  {
   "cell_type": "code",
   "execution_count": 1,
   "id": "6bedb420-e0c3-4b4d-8f85-e02a54815e9f",
   "metadata": {},
   "outputs": [],
   "source": [
    "import pandas as pd"
   ]
  },
  {
   "cell_type": "code",
   "execution_count": 2,
   "id": "d747a9c1-915c-4519-af1e-4937554e6813",
   "metadata": {},
   "outputs": [],
   "source": [
    "def conv_seconds_to_node_hours(time_in_seconds, nodes):\n",
    "    time_in_hours = time_in_seconds / 60 / 60\n",
    "    return round(time_in_hours * nodes, 1)"
   ]
  },
  {
   "cell_type": "code",
   "execution_count": 3,
   "id": "d62b06f8-1a26-4fdf-9e14-71aa7e33e266",
   "metadata": {},
   "outputs": [
    {
     "data": {
      "text/plain": [
       "(23.9, 238.7)"
      ]
     },
     "execution_count": 3,
     "metadata": {},
     "output_type": "execute_result"
    }
   ],
   "source": [
    "# p-1a\n",
    "# run.o13562143\n",
    "p_1a_total = 42962\n",
    "p_1a_gen = p_1a_total / 10\n",
    "conv_seconds_to_node_hours(p_1a_gen, 20), conv_seconds_to_node_hours(p_1a_total, 20)"
   ]
  },
  {
   "cell_type": "code",
   "execution_count": 4,
   "id": "464d1d42-4159-44a8-97ce-8b3ad81f2684",
   "metadata": {},
   "outputs": [
    {
     "data": {
      "text/plain": [
       "(96.0, 959.7)"
      ]
     },
     "execution_count": 4,
     "metadata": {},
     "output_type": "execute_result"
    }
   ],
   "source": [
    "# p-1b\n",
    "# run.o13267004\n",
    "p_1b_total = 172741\n",
    "p_1b_gen = p_1b_total / 10\n",
    "conv_seconds_to_node_hours(p_1b_gen, 20), conv_seconds_to_node_hours(p_1b_total, 20)"
   ]
  },
  {
   "cell_type": "code",
   "execution_count": 5,
   "id": "2432c3cf-7305-42ab-b280-e1e88f452c29",
   "metadata": {},
   "outputs": [
    {
     "data": {
      "text/plain": [
       "(65.9, 658.6)"
      ]
     },
     "execution_count": 5,
     "metadata": {},
     "output_type": "execute_result"
    }
   ],
   "source": [
    "# p-1c\n",
    "# run.o13568566 \n",
    "p_1c_total = 118548\n",
    "p_1c_gen = p_1c_total / 10\n",
    "conv_seconds_to_node_hours(p_1c_gen, 20), conv_seconds_to_node_hours(p_1c_total, 20)"
   ]
  },
  {
   "cell_type": "code",
   "execution_count": 6,
   "id": "41f52f23-c4d5-41a5-ba06-b1f34f23233f",
   "metadata": {},
   "outputs": [
    {
     "data": {
      "text/plain": [
       "(49.6, 148.7)"
      ]
     },
     "execution_count": 6,
     "metadata": {},
     "output_type": "execute_result"
    }
   ],
   "source": [
    "# p-1d\n",
    "# 593934.output\n",
    "p_1d_total = 4182\n",
    "p_1d_gen = p_1d_total / 3\n",
    "conv_seconds_to_node_hours(p_1d_gen, 128), conv_seconds_to_node_hours(p_1d_total, 128)"
   ]
  },
  {
   "cell_type": "code",
   "execution_count": 7,
   "id": "2282b2ea-d7de-4494-be7b-f6c56dd06e10",
   "metadata": {},
   "outputs": [
    {
     "data": {
      "text/plain": [
       "(71.4, 285.6)"
      ]
     },
     "execution_count": 7,
     "metadata": {},
     "output_type": "execute_result"
    }
   ],
   "source": [
    "# p-1e\n",
    "# 593861.output\n",
    "p_1e_total = 2363 + 1999 + 1798 + 1873\n",
    "p_1e_gen = p_1e_total / 4\n",
    "conv_seconds_to_node_hours(p_1e_gen, 128), conv_seconds_to_node_hours(p_1e_total, 128)"
   ]
  },
  {
   "cell_type": "code",
   "execution_count": 8,
   "id": "206b59a3-7915-4d13-bc5a-674f00120d5f",
   "metadata": {},
   "outputs": [
    {
     "data": {
      "text/plain": [
       "(46.4, 231.8)"
      ]
     },
     "execution_count": 8,
     "metadata": {},
     "output_type": "execute_result"
    }
   ],
   "source": [
    "# p-1f\n",
    "# 586475.output\n",
    "p_1f_total = 2819 + 3701\n",
    "p_1f_gen = p_1f_total / 5\n",
    "conv_seconds_to_node_hours(p_1f_gen, 128), conv_seconds_to_node_hours(p_1f_total, 128)\n"
   ]
  },
  {
   "cell_type": "code",
   "execution_count": 9,
   "id": "a26b98b8-940f-4548-8bec-dc5a1dcf657d",
   "metadata": {},
   "outputs": [
    {
     "data": {
      "text/plain": [
       "(132.2, 264.5)"
      ]
     },
     "execution_count": 9,
     "metadata": {},
     "output_type": "execute_result"
    }
   ],
   "source": [
    "# p-2a\n",
    "# 585997.output\n",
    "p_2a_total = 2511 + 4928\n",
    "p_2a_gen = p_2a_total / 2\n",
    "conv_seconds_to_node_hours(p_2a_gen, 128), conv_seconds_to_node_hours(p_2a_total, 128)"
   ]
  },
  {
   "cell_type": "code",
   "execution_count": 10,
   "id": "73d0be89-c640-4b79-8dc3-7de79aad8a56",
   "metadata": {},
   "outputs": [
    {
     "data": {
      "text/plain": [
       "(66.3, 198.9)"
      ]
     },
     "execution_count": 10,
     "metadata": {},
     "output_type": "execute_result"
    }
   ],
   "source": [
    "# p-2b\n",
    "# 585314.output\n",
    "p_2b_total = (1252 + 2478) / 2 * 3\n",
    "p_2b_gen = p_2b_total / 3\n",
    "conv_seconds_to_node_hours(p_2b_gen, 128), conv_seconds_to_node_hours(p_2b_total, 128)"
   ]
  },
  {
   "cell_type": "code",
   "execution_count": 11,
   "id": "8c58fe81-ff5e-43ea-ad77-5665786a9365",
   "metadata": {},
   "outputs": [
    {
     "data": {
      "text/plain": [
       "(167.1, 501.2)"
      ]
     },
     "execution_count": 11,
     "metadata": {},
     "output_type": "execute_result"
    }
   ],
   "source": [
    "# p-2c\n",
    "p_2c_total = 2953 + 3680 + 7462\n",
    "p_2c_gen = p_2c_total / 3 \n",
    "conv_seconds_to_node_hours(p_2c_gen, 128), conv_seconds_to_node_hours(p_2c_total, 128)"
   ]
  },
  {
   "cell_type": "code",
   "execution_count": 12,
   "id": "16ceb8fa-42a5-492c-849a-4dd75d061138",
   "metadata": {},
   "outputs": [
    {
     "data": {
      "text/plain": [
       "(92.9, 464.5)"
      ]
     },
     "execution_count": 12,
     "metadata": {},
     "output_type": "execute_result"
    }
   ],
   "source": [
    "# p-3a\n",
    "# 587542.output\n",
    "p_3a_total = 2660 + 2629 + 5162 + 2613\n",
    "p_3a_one_gen = p_3a_total/5\n",
    "conv_seconds_to_node_hours(p_3a_one_gen, 128), conv_seconds_to_node_hours(p_3a_total, 128)"
   ]
  },
  {
   "cell_type": "code",
   "execution_count": 14,
   "id": "2d0e936c-56b8-4d58-9ab3-404c5708ca17",
   "metadata": {},
   "outputs": [
    {
     "data": {
      "text/plain": [
       "(178.2, 1425.8)"
      ]
     },
     "execution_count": 14,
     "metadata": {},
     "output_type": "execute_result"
    }
   ],
   "source": [
    "# p-3b\n",
    "# 597001.output\n",
    "p_3b_total = 5763 + 4748 + 4779 + 5391 + 4807 + 5096 + 4834 + 4684\n",
    "p_3b_one_gen = p_3b_total/8\n",
    "conv_seconds_to_node_hours(p_3b_one_gen, 128), conv_seconds_to_node_hours(p_3b_total, 128)"
   ]
  },
  {
   "cell_type": "code",
   "execution_count": null,
   "id": "eb9bb9a1-1b17-4f3f-bb89-767ec3fed02f",
   "metadata": {},
   "outputs": [],
   "source": []
  },
  {
   "cell_type": "code",
   "execution_count": null,
   "id": "043acfe1-f95d-418d-b4b5-a3fc7c7ed699",
   "metadata": {},
   "outputs": [],
   "source": []
  },
  {
   "cell_type": "code",
   "execution_count": null,
   "id": "5d7eb4b9-7afb-4e03-9315-9b3f003dd06a",
   "metadata": {},
   "outputs": [],
   "source": []
  }
 ],
 "metadata": {
  "kernelspec": {
   "display_name": "Python 3 (ipykernel)",
   "language": "python",
   "name": "python3"
  },
  "language_info": {
   "codemirror_mode": {
    "name": "ipython",
    "version": 3
   },
   "file_extension": ".py",
   "mimetype": "text/x-python",
   "name": "python",
   "nbconvert_exporter": "python",
   "pygments_lexer": "ipython3",
   "version": "3.9.10"
  }
 },
 "nbformat": 4,
 "nbformat_minor": 5
}
